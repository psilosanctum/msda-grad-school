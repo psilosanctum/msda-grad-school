{
 "cells": [
  {
   "cell_type": "markdown",
   "metadata": {},
   "source": [
    "# Week 6 Lab Exercises\n",
    "\n",
    "Blank notebook to be used for class exercises.\n",
    "\n",
    "Name: Collin Real\n",
    "\n",
    "abc123: yhi267"
   ]
  },
  {
   "cell_type": "markdown",
   "metadata": {},
   "source": [
    "## Exercise 1\n",
    "\n",
    "Write code to loop over mbox.txt and counts, and prints, the number of lines thatc ontain the “From:” substring.  Use the **re** package for this exercise.\n",
    "\n",
    "file path: \"./mbox.txt\""
   ]
  },
  {
   "cell_type": "code",
   "execution_count": 2,
   "metadata": {},
   "outputs": [
    {
     "name": "stdout",
     "output_type": "stream",
     "text": [
      "1797 132045\n",
      "test\\ntest2\n"
     ]
    }
   ],
   "source": [
    "import re\n",
    "# Write code here\n",
    "from_count = 0\n",
    "tot_line = 0\n",
    "\n",
    "my_file = open('mbox(1).txt')\n",
    "\n",
    "for line in my_file:\n",
    "    match = re.search(\"From:\", line)\n",
    "    if match:\n",
    "        from_count += 1\n",
    "    tot_line += 1\n",
    "\n",
    "my_file.close()\n",
    "print(from_count, tot_line)\n",
    "print(r\"test\\ntest2\")"
   ]
  },
  {
   "cell_type": "markdown",
   "metadata": {},
   "source": [
    "## Exercise 2\n",
    "\n",
    "Write a program to look for lines of the form in the “mbox.txt” file:\n",
    "\n",
    "New Revision:  39772\n",
    "\n",
    "Extract the number from each of the lines using a regular expression andthe findall() method.  Compute and print the average of the numbers.\n",
    "\n",
    "file path: \"./mbox.txt\""
   ]
  },
  {
   "cell_type": "code",
   "execution_count": 3,
   "metadata": {},
   "outputs": [
    {
     "name": "stdout",
     "output_type": "stream",
     "text": [
      "1790 38549.79497206704\n"
     ]
    }
   ],
   "source": [
    "# Write code here\n",
    "num_sum = 0\n",
    "num_count = 0\n",
    "\n",
    "my_file = open('mbox(1).txt')\n",
    "\n",
    "for line in my_file:\n",
    "    matches = re.findall(r\"New Revision: ([0-9]+)\", line)\n",
    "    if len(matches) > 0:\n",
    "        num = float(matches[0])\n",
    "        num_sum += num\n",
    "        num_count += 1\n",
    "\n",
    "my_file.close()\n",
    "print(num_count, num_sum/num_count)"
   ]
  },
  {
   "cell_type": "markdown",
   "metadata": {},
   "source": [
    "## Exercise 3\n",
    "\n",
    "For the following string:\n",
    "\n",
    "text = \"any machine with more than 6 GHz and 500 GB of disk space for less than \\$999.99\"\n",
    "\n",
    "Develop a regular expression that will extract **all** of the following information:\n",
    "- 6 GHz\n",
    "- 500 GB\n",
    "- Mac\n",
    "- $999.99\n",
    "\n",
    "Hint: Use re.findall\n",
    "\n",
    "NOTE: You should have code that is general (e.g., the regex would extrac \"Mac\" even though it does not appear in the string)"
   ]
  },
  {
   "cell_type": "code",
   "execution_count": 5,
   "metadata": {},
   "outputs": [],
   "source": [
    "text = \"any machine with more than 6 GHz and 500 GB of disk space for less than $999.99\""
   ]
  },
  {
   "cell_type": "code",
   "execution_count": 6,
   "metadata": {},
   "outputs": [
    {
     "data": {
      "text/plain": [
       "['6 GHz', '500 GB', '$999.99']"
      ]
     },
     "execution_count": 6,
     "metadata": {},
     "output_type": "execute_result"
    }
   ],
   "source": [
    "# Write code here\n",
    "re.findall(r\"[0-9] [Gg][Hh]z|[0-9]+ [Gg][Bb]|Mac|\\$[0-9]+(?:\\.[0-9]{2,2})?\", text)"
   ]
  },
  {
   "cell_type": "markdown",
   "metadata": {},
   "source": [
    "## Exercise 4\n",
    "\n",
    "Complete the lessons available at https://regexone.com/. Take a screenshot when you finish, and uplaod it along with this lab file."
   ]
  }
 ],
 "metadata": {
  "kernelspec": {
   "display_name": "Python 3",
   "language": "python",
   "name": "python3"
  },
  "language_info": {
   "codemirror_mode": {
    "name": "ipython",
    "version": 3
   },
   "file_extension": ".py",
   "mimetype": "text/x-python",
   "name": "python",
   "nbconvert_exporter": "python",
   "pygments_lexer": "ipython3",
   "version": "3.7.7"
  }
 },
 "nbformat": 4,
 "nbformat_minor": 4
}
