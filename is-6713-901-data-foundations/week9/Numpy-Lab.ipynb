{
 "cells": [
  {
   "cell_type": "code",
   "execution_count": null,
   "id": "5d7a6edc-437b-4463-bc98-52d2d3848066",
   "metadata": {},
   "outputs": [],
   "source": [
    "# QUESTIONS?\n",
    "\n",
    "# Features\n",
    "\n",
    "# Machine Learining -> f(x) = y, question: What is x?\n",
    "\n",
    "# Example 1: Customer Churn (e.g., predict when a customer will stop being a customer at a bank)\n",
    "\n",
    "## Features\n",
    "\n",
    "# Example 2: Forecasting (e.g., predict uber usage at a given time in a given city)\n",
    "\n",
    "## Features\n",
    "\n",
    "# Example 3: General Prediction: Predict how fast someone will run a 5k race.\n",
    "\n",
    "## Features"
   ]
  },
  {
   "cell_type": "code",
   "execution_count": null,
   "id": "97b8fa2c-a3dc-4ac0-bd26-90876da04589",
   "metadata": {},
   "outputs": [],
   "source": [
    "# Numpy\n",
    "\n",
    "# Vectors\n",
    "\n",
    "## Creating\n",
    "\n",
    "## Get Size\n",
    "\n",
    "## Sum/Average\n",
    "\n",
    "## Addition/Subtraction\n",
    "\n",
    "## Fancy indexing\n",
    "\n",
    "## Dot (inner) product\n",
    "\n",
    "## Arggggggg (argmax)\n",
    "\n",
    "# Matricies\n",
    "\n",
    "## Similar operations as Vectors\n"
   ]
  },
  {
   "cell_type": "markdown",
   "id": "9e8906c5-5414-428e-93e9-ab2b5bcac800",
   "metadata": {},
   "source": [
    "# Exercise 1\n",
    "\n",
    "For this exercise you get to use your imagination. Think of three potential \"predictive tasks\" (i.e., applications of machine learning). Then, for each task, come up with at least 5 features that are useful for the task. Then, for each feature, think about what type of feature it would be (boolean, Numeric, Ordinal, Categorical, multi-category, etc.) See the example below:\n",
    "\n",
    "**TASK 1**: Predict customer churn at Facebook (i..e, predicting yes or no if a user will delete their account in the next 6 months)\n",
    "\n",
    "**Features for Task 1**:\n",
    "1. How often have they logged into Facebook in the last month?\n",
    "    1. Numeric, e.g., 7 days\n",
    "2. How many comments have they made in the last month?\n",
    "    1. Numeric, e.g., 24 comments\n",
    "3. How many likes have they given in the last month?\n",
    "    1. Numeric, e.g., 120 likes\n",
    "4. How many friends does the user have?\n",
    "    1. Numeric, e.g., 1 friend\n",
    "5. What is the longest period of inactivity of the user since creating an account?\n",
    "    1. Numeric, e.g., 92 days\n",
    "6. What is the age of the user?\n",
    "    1. Numeric, e.g., 50 years old\n",
    "7. Is the user a \"verified account\"?\n",
    "    1. boolean, e.g., \"yes\" or \"no\"\n",
    "    \n",
    "**TIME:** 15 minutes"
   ]
  },
  {
   "cell_type": "code",
   "execution_count": 4,
   "id": "a18509f5-db6d-4015-952e-a7c189056988",
   "metadata": {},
   "outputs": [
    {
     "ename": "ImportError",
     "evalue": "\n\nIMPORTANT: PLEASE READ THIS FOR ADVICE ON HOW TO SOLVE THIS ISSUE!\n\nImporting the numpy C-extensions failed. This error can happen for\nmany reasons, often due to issues with your setup or how NumPy was\ninstalled.\n\nWe have compiled some common reasons and troubleshooting tips at:\n\n    https://numpy.org/devdocs/user/troubleshooting-importerror.html\n\nPlease note and check the following:\n\n  * The Python version is: Python3.11 from \"/Users/c2cypher/anaconda3/bin/python\"\n  * The NumPy version is: \"1.24.3\"\n\nand make sure that they are the versions you expect.\nPlease carefully study the documentation linked above for further help.\n\nOriginal error was: dlopen(/Users/c2cypher/anaconda3/lib/python3.11/site-packages/numpy/core/_multiarray_umath.cpython-311-darwin.so, 0x0002): Library not loaded: @rpath/libopenblas.0.dylib\n  Referenced from: /Users/c2cypher/anaconda3/lib/python3.11/site-packages/numpy/core/_multiarray_umath.cpython-311-darwin.so\n  Reason: tried: '/Users/c2cypher/anaconda3/lib/python3.11/site-packages/numpy/core/../../../../libopenblas.0.dylib' (no such file), '/Users/c2cypher/anaconda3/lib/python3.11/site-packages/numpy/core/../../../../libopenblas.0.dylib' (no such file), '/Users/c2cypher/anaconda3/bin/../lib/libopenblas.0.dylib' (no such file), '/Users/c2cypher/anaconda3/bin/../lib/libopenblas.0.dylib' (no such file), '/usr/local/lib/libopenblas.0.dylib' (no such file), '/usr/lib/libopenblas.0.dylib' (no such file)\n",
     "output_type": "error",
     "traceback": [
      "\u001b[0;31m---------------------------------------------------------------------------\u001b[0m",
      "\u001b[0;31mImportError\u001b[0m                               Traceback (most recent call last)",
      "File \u001b[0;32m~/anaconda3/lib/python3.11/site-packages/numpy/core/__init__.py:23\u001b[0m\n\u001b[1;32m     22\u001b[0m \u001b[38;5;28;01mtry\u001b[39;00m:\n\u001b[0;32m---> 23\u001b[0m     \u001b[38;5;28;01mfrom\u001b[39;00m \u001b[38;5;21;01m.\u001b[39;00m \u001b[38;5;28;01mimport\u001b[39;00m multiarray\n\u001b[1;32m     24\u001b[0m \u001b[38;5;28;01mexcept\u001b[39;00m \u001b[38;5;167;01mImportError\u001b[39;00m \u001b[38;5;28;01mas\u001b[39;00m exc:\n",
      "File \u001b[0;32m~/anaconda3/lib/python3.11/site-packages/numpy/core/multiarray.py:10\u001b[0m\n\u001b[1;32m      9\u001b[0m \u001b[38;5;28;01mimport\u001b[39;00m \u001b[38;5;21;01mfunctools\u001b[39;00m\n\u001b[0;32m---> 10\u001b[0m \u001b[38;5;28;01mfrom\u001b[39;00m \u001b[38;5;21;01m.\u001b[39;00m \u001b[38;5;28;01mimport\u001b[39;00m overrides\n\u001b[1;32m     11\u001b[0m \u001b[38;5;28;01mfrom\u001b[39;00m \u001b[38;5;21;01m.\u001b[39;00m \u001b[38;5;28;01mimport\u001b[39;00m _multiarray_umath\n",
      "File \u001b[0;32m~/anaconda3/lib/python3.11/site-packages/numpy/core/overrides.py:6\u001b[0m\n\u001b[1;32m      4\u001b[0m \u001b[38;5;28;01mimport\u001b[39;00m \u001b[38;5;21;01mos\u001b[39;00m\n\u001b[0;32m----> 6\u001b[0m \u001b[38;5;28;01mfrom\u001b[39;00m \u001b[38;5;21;01mnumpy\u001b[39;00m\u001b[38;5;21;01m.\u001b[39;00m\u001b[38;5;21;01mcore\u001b[39;00m\u001b[38;5;21;01m.\u001b[39;00m\u001b[38;5;21;01m_multiarray_umath\u001b[39;00m \u001b[38;5;28;01mimport\u001b[39;00m (\n\u001b[1;32m      7\u001b[0m     add_docstring, implement_array_function, _get_implementing_args)\n\u001b[1;32m      8\u001b[0m \u001b[38;5;28;01mfrom\u001b[39;00m \u001b[38;5;21;01mnumpy\u001b[39;00m\u001b[38;5;21;01m.\u001b[39;00m\u001b[38;5;21;01mcompat\u001b[39;00m\u001b[38;5;21;01m.\u001b[39;00m\u001b[38;5;21;01m_inspect\u001b[39;00m \u001b[38;5;28;01mimport\u001b[39;00m getargspec\n",
      "\u001b[0;31mImportError\u001b[0m: dlopen(/Users/c2cypher/anaconda3/lib/python3.11/site-packages/numpy/core/_multiarray_umath.cpython-311-darwin.so, 0x0002): Library not loaded: @rpath/libopenblas.0.dylib\n  Referenced from: /Users/c2cypher/anaconda3/lib/python3.11/site-packages/numpy/core/_multiarray_umath.cpython-311-darwin.so\n  Reason: tried: '/Users/c2cypher/anaconda3/lib/python3.11/site-packages/numpy/core/../../../../libopenblas.0.dylib' (no such file), '/Users/c2cypher/anaconda3/lib/python3.11/site-packages/numpy/core/../../../../libopenblas.0.dylib' (no such file), '/Users/c2cypher/anaconda3/bin/../lib/libopenblas.0.dylib' (no such file), '/Users/c2cypher/anaconda3/bin/../lib/libopenblas.0.dylib' (no such file), '/usr/local/lib/libopenblas.0.dylib' (no such file), '/usr/lib/libopenblas.0.dylib' (no such file)",
      "\nDuring handling of the above exception, another exception occurred:\n",
      "\u001b[0;31mImportError\u001b[0m                               Traceback (most recent call last)",
      "Cell \u001b[0;32mIn[4], line 1\u001b[0m\n\u001b[0;32m----> 1\u001b[0m \u001b[38;5;28;01mimport\u001b[39;00m \u001b[38;5;21;01mnumpy\u001b[39;00m \u001b[38;5;28;01mas\u001b[39;00m \u001b[38;5;21;01mnp\u001b[39;00m\n",
      "File \u001b[0;32m~/anaconda3/lib/python3.11/site-packages/numpy/__init__.py:141\u001b[0m\n\u001b[1;32m    138\u001b[0m \u001b[38;5;66;03m# Allow distributors to run custom init code\u001b[39;00m\n\u001b[1;32m    139\u001b[0m \u001b[38;5;28;01mfrom\u001b[39;00m \u001b[38;5;21;01m.\u001b[39;00m \u001b[38;5;28;01mimport\u001b[39;00m _distributor_init\n\u001b[0;32m--> 141\u001b[0m \u001b[38;5;28;01mfrom\u001b[39;00m \u001b[38;5;21;01m.\u001b[39;00m \u001b[38;5;28;01mimport\u001b[39;00m core\n\u001b[1;32m    142\u001b[0m \u001b[38;5;28;01mfrom\u001b[39;00m \u001b[38;5;21;01m.\u001b[39;00m\u001b[38;5;21;01mcore\u001b[39;00m \u001b[38;5;28;01mimport\u001b[39;00m \u001b[38;5;241m*\u001b[39m\n\u001b[1;32m    143\u001b[0m \u001b[38;5;28;01mfrom\u001b[39;00m \u001b[38;5;21;01m.\u001b[39;00m \u001b[38;5;28;01mimport\u001b[39;00m compat\n",
      "File \u001b[0;32m~/anaconda3/lib/python3.11/site-packages/numpy/core/__init__.py:49\u001b[0m\n\u001b[1;32m     25\u001b[0m     \u001b[38;5;28;01mimport\u001b[39;00m \u001b[38;5;21;01msys\u001b[39;00m\n\u001b[1;32m     26\u001b[0m     msg \u001b[38;5;241m=\u001b[39m \u001b[38;5;124m\"\"\"\u001b[39m\n\u001b[1;32m     27\u001b[0m \n\u001b[1;32m     28\u001b[0m \u001b[38;5;124mIMPORTANT: PLEASE READ THIS FOR ADVICE ON HOW TO SOLVE THIS ISSUE!\u001b[39m\n\u001b[0;32m   (...)\u001b[0m\n\u001b[1;32m     47\u001b[0m \u001b[38;5;124m\"\"\"\u001b[39m \u001b[38;5;241m%\u001b[39m (sys\u001b[38;5;241m.\u001b[39mversion_info[\u001b[38;5;241m0\u001b[39m], sys\u001b[38;5;241m.\u001b[39mversion_info[\u001b[38;5;241m1\u001b[39m], sys\u001b[38;5;241m.\u001b[39mexecutable,\n\u001b[1;32m     48\u001b[0m         __version__, exc)\n\u001b[0;32m---> 49\u001b[0m     \u001b[38;5;28;01mraise\u001b[39;00m \u001b[38;5;167;01mImportError\u001b[39;00m(msg)\n\u001b[1;32m     50\u001b[0m \u001b[38;5;28;01mfinally\u001b[39;00m:\n\u001b[1;32m     51\u001b[0m     \u001b[38;5;28;01mfor\u001b[39;00m envkey \u001b[38;5;129;01min\u001b[39;00m env_added:\n",
      "\u001b[0;31mImportError\u001b[0m: \n\nIMPORTANT: PLEASE READ THIS FOR ADVICE ON HOW TO SOLVE THIS ISSUE!\n\nImporting the numpy C-extensions failed. This error can happen for\nmany reasons, often due to issues with your setup or how NumPy was\ninstalled.\n\nWe have compiled some common reasons and troubleshooting tips at:\n\n    https://numpy.org/devdocs/user/troubleshooting-importerror.html\n\nPlease note and check the following:\n\n  * The Python version is: Python3.11 from \"/Users/c2cypher/anaconda3/bin/python\"\n  * The NumPy version is: \"1.24.3\"\n\nand make sure that they are the versions you expect.\nPlease carefully study the documentation linked above for further help.\n\nOriginal error was: dlopen(/Users/c2cypher/anaconda3/lib/python3.11/site-packages/numpy/core/_multiarray_umath.cpython-311-darwin.so, 0x0002): Library not loaded: @rpath/libopenblas.0.dylib\n  Referenced from: /Users/c2cypher/anaconda3/lib/python3.11/site-packages/numpy/core/_multiarray_umath.cpython-311-darwin.so\n  Reason: tried: '/Users/c2cypher/anaconda3/lib/python3.11/site-packages/numpy/core/../../../../libopenblas.0.dylib' (no such file), '/Users/c2cypher/anaconda3/lib/python3.11/site-packages/numpy/core/../../../../libopenblas.0.dylib' (no such file), '/Users/c2cypher/anaconda3/bin/../lib/libopenblas.0.dylib' (no such file), '/Users/c2cypher/anaconda3/bin/../lib/libopenblas.0.dylib' (no such file), '/usr/local/lib/libopenblas.0.dylib' (no such file), '/usr/lib/libopenblas.0.dylib' (no such file)\n"
     ]
    }
   ],
   "source": [
    "import numpy as np"
   ]
  },
  {
   "cell_type": "markdown",
   "id": "8ddb59ca-33cd-4f95-a3de-ca7a89dd40a9",
   "metadata": {},
   "source": [
    "# Exercise 2\n",
    "\n",
    "You have a dataset containg test grades for each student in a 5th grade class. There were 3 tests in the course. Using the matrix\n",
    "\n",
    "**YOUR TASK**: The matrix ```grades``` has 3 columns and 20 rows. Using this matrix, complete the following tasks:\n",
    "\n",
    "1. What is the max test grade for each test? HINT: Use \".max(axis=0)\".\n",
    "2. Which row (user) contains the max test grade for each test? i.e., find the user with the max test grade for each test. HINT: First, select a column, then use \".argmax()\".\n",
    "2. Which user (row) had the highest average grade? HINT: First, calculate use \".mean(axis=1)\", then use \".argmax()\"\n",
    "3. Find how many students achived an average score greater than 50. HINT: Calculate average (.mean(axis=1)), then use \"fancy indexing\" to find scores > 50. \n",
    "4. The students performed terribly on each test. Unfortunately, for the students, you (the teacher) are in a bad mood. Instead of curving the students grade up in the class, you want to reduce the students grade by 10\\% for not listening to your instruction. HINT: You should use \"matrix subtraction\" combined with \"scalar-matrix\" multiplication, i.e., X = A - A*b\n",
    "\n",
    "**TIME**: 15 minutes"
   ]
  },
  {
   "cell_type": "code",
   "execution_count": 3,
   "id": "e9cb7063-2c3e-4c66-a471-9bba83369e46",
   "metadata": {},
   "outputs": [
    {
     "ename": "ImportError",
     "evalue": "\n\nIMPORTANT: PLEASE READ THIS FOR ADVICE ON HOW TO SOLVE THIS ISSUE!\n\nImporting the numpy C-extensions failed. This error can happen for\nmany reasons, often due to issues with your setup or how NumPy was\ninstalled.\n\nWe have compiled some common reasons and troubleshooting tips at:\n\n    https://numpy.org/devdocs/user/troubleshooting-importerror.html\n\nPlease note and check the following:\n\n  * The Python version is: Python3.11 from \"/Users/c2cypher/anaconda3/bin/python\"\n  * The NumPy version is: \"1.24.3\"\n\nand make sure that they are the versions you expect.\nPlease carefully study the documentation linked above for further help.\n\nOriginal error was: dlopen(/Users/c2cypher/anaconda3/lib/python3.11/site-packages/numpy/core/_multiarray_umath.cpython-311-darwin.so, 0x0002): Library not loaded: @rpath/libopenblas.0.dylib\n  Referenced from: /Users/c2cypher/anaconda3/lib/python3.11/site-packages/numpy/core/_multiarray_umath.cpython-311-darwin.so\n  Reason: tried: '/Users/c2cypher/anaconda3/lib/python3.11/site-packages/numpy/core/../../../../libopenblas.0.dylib' (no such file), '/Users/c2cypher/anaconda3/lib/python3.11/site-packages/numpy/core/../../../../libopenblas.0.dylib' (no such file), '/Users/c2cypher/anaconda3/bin/../lib/libopenblas.0.dylib' (no such file), '/Users/c2cypher/anaconda3/bin/../lib/libopenblas.0.dylib' (no such file), '/usr/local/lib/libopenblas.0.dylib' (no such file), '/usr/lib/libopenblas.0.dylib' (no such file)\n",
     "output_type": "error",
     "traceback": [
      "\u001b[0;31m---------------------------------------------------------------------------\u001b[0m",
      "\u001b[0;31mImportError\u001b[0m                               Traceback (most recent call last)",
      "File \u001b[0;32m~/anaconda3/lib/python3.11/site-packages/numpy/core/__init__.py:23\u001b[0m\n\u001b[1;32m     22\u001b[0m \u001b[38;5;28;01mtry\u001b[39;00m:\n\u001b[0;32m---> 23\u001b[0m     \u001b[38;5;28;01mfrom\u001b[39;00m \u001b[38;5;21;01m.\u001b[39;00m \u001b[38;5;28;01mimport\u001b[39;00m multiarray\n\u001b[1;32m     24\u001b[0m \u001b[38;5;28;01mexcept\u001b[39;00m \u001b[38;5;167;01mImportError\u001b[39;00m \u001b[38;5;28;01mas\u001b[39;00m exc:\n",
      "File \u001b[0;32m~/anaconda3/lib/python3.11/site-packages/numpy/core/multiarray.py:10\u001b[0m\n\u001b[1;32m      9\u001b[0m \u001b[38;5;28;01mimport\u001b[39;00m \u001b[38;5;21;01mfunctools\u001b[39;00m\n\u001b[0;32m---> 10\u001b[0m \u001b[38;5;28;01mfrom\u001b[39;00m \u001b[38;5;21;01m.\u001b[39;00m \u001b[38;5;28;01mimport\u001b[39;00m overrides\n\u001b[1;32m     11\u001b[0m \u001b[38;5;28;01mfrom\u001b[39;00m \u001b[38;5;21;01m.\u001b[39;00m \u001b[38;5;28;01mimport\u001b[39;00m _multiarray_umath\n",
      "File \u001b[0;32m~/anaconda3/lib/python3.11/site-packages/numpy/core/overrides.py:6\u001b[0m\n\u001b[1;32m      4\u001b[0m \u001b[38;5;28;01mimport\u001b[39;00m \u001b[38;5;21;01mos\u001b[39;00m\n\u001b[0;32m----> 6\u001b[0m \u001b[38;5;28;01mfrom\u001b[39;00m \u001b[38;5;21;01mnumpy\u001b[39;00m\u001b[38;5;21;01m.\u001b[39;00m\u001b[38;5;21;01mcore\u001b[39;00m\u001b[38;5;21;01m.\u001b[39;00m\u001b[38;5;21;01m_multiarray_umath\u001b[39;00m \u001b[38;5;28;01mimport\u001b[39;00m (\n\u001b[1;32m      7\u001b[0m     add_docstring, implement_array_function, _get_implementing_args)\n\u001b[1;32m      8\u001b[0m \u001b[38;5;28;01mfrom\u001b[39;00m \u001b[38;5;21;01mnumpy\u001b[39;00m\u001b[38;5;21;01m.\u001b[39;00m\u001b[38;5;21;01mcompat\u001b[39;00m\u001b[38;5;21;01m.\u001b[39;00m\u001b[38;5;21;01m_inspect\u001b[39;00m \u001b[38;5;28;01mimport\u001b[39;00m getargspec\n",
      "\u001b[0;31mImportError\u001b[0m: dlopen(/Users/c2cypher/anaconda3/lib/python3.11/site-packages/numpy/core/_multiarray_umath.cpython-311-darwin.so, 0x0002): Library not loaded: @rpath/libopenblas.0.dylib\n  Referenced from: /Users/c2cypher/anaconda3/lib/python3.11/site-packages/numpy/core/_multiarray_umath.cpython-311-darwin.so\n  Reason: tried: '/Users/c2cypher/anaconda3/lib/python3.11/site-packages/numpy/core/../../../../libopenblas.0.dylib' (no such file), '/Users/c2cypher/anaconda3/lib/python3.11/site-packages/numpy/core/../../../../libopenblas.0.dylib' (no such file), '/Users/c2cypher/anaconda3/bin/../lib/libopenblas.0.dylib' (no such file), '/Users/c2cypher/anaconda3/bin/../lib/libopenblas.0.dylib' (no such file), '/usr/local/lib/libopenblas.0.dylib' (no such file), '/usr/lib/libopenblas.0.dylib' (no such file)",
      "\nDuring handling of the above exception, another exception occurred:\n",
      "\u001b[0;31mImportError\u001b[0m                               Traceback (most recent call last)",
      "Cell \u001b[0;32mIn[3], line 1\u001b[0m\n\u001b[0;32m----> 1\u001b[0m \u001b[38;5;28;01mimport\u001b[39;00m \u001b[38;5;21;01mnumpy\u001b[39;00m \u001b[38;5;28;01mas\u001b[39;00m \u001b[38;5;21;01mnp\u001b[39;00m\n\u001b[1;32m      3\u001b[0m grades \u001b[38;5;241m=\u001b[39m np\u001b[38;5;241m.\u001b[39marray([[\u001b[38;5;241m66\u001b[39m, \u001b[38;5;241m63\u001b[39m, \u001b[38;5;241m40\u001b[39m],\n\u001b[1;32m      4\u001b[0m        [\u001b[38;5;241m65\u001b[39m, \u001b[38;5;241m32\u001b[39m, \u001b[38;5;241m28\u001b[39m],\n\u001b[1;32m      5\u001b[0m        [\u001b[38;5;241m47\u001b[39m, \u001b[38;5;241m43\u001b[39m, \u001b[38;5;241m69\u001b[39m],\n\u001b[0;32m   (...)\u001b[0m\n\u001b[1;32m     21\u001b[0m        [\u001b[38;5;241m46\u001b[39m, \u001b[38;5;241m37\u001b[39m, \u001b[38;5;241m29\u001b[39m],\n\u001b[1;32m     22\u001b[0m        [\u001b[38;5;241m35\u001b[39m, \u001b[38;5;241m62\u001b[39m, \u001b[38;5;241m25\u001b[39m]])\n",
      "File \u001b[0;32m~/anaconda3/lib/python3.11/site-packages/numpy/__init__.py:141\u001b[0m\n\u001b[1;32m    138\u001b[0m \u001b[38;5;66;03m# Allow distributors to run custom init code\u001b[39;00m\n\u001b[1;32m    139\u001b[0m \u001b[38;5;28;01mfrom\u001b[39;00m \u001b[38;5;21;01m.\u001b[39;00m \u001b[38;5;28;01mimport\u001b[39;00m _distributor_init\n\u001b[0;32m--> 141\u001b[0m \u001b[38;5;28;01mfrom\u001b[39;00m \u001b[38;5;21;01m.\u001b[39;00m \u001b[38;5;28;01mimport\u001b[39;00m core\n\u001b[1;32m    142\u001b[0m \u001b[38;5;28;01mfrom\u001b[39;00m \u001b[38;5;21;01m.\u001b[39;00m\u001b[38;5;21;01mcore\u001b[39;00m \u001b[38;5;28;01mimport\u001b[39;00m \u001b[38;5;241m*\u001b[39m\n\u001b[1;32m    143\u001b[0m \u001b[38;5;28;01mfrom\u001b[39;00m \u001b[38;5;21;01m.\u001b[39;00m \u001b[38;5;28;01mimport\u001b[39;00m compat\n",
      "File \u001b[0;32m~/anaconda3/lib/python3.11/site-packages/numpy/core/__init__.py:49\u001b[0m\n\u001b[1;32m     25\u001b[0m     \u001b[38;5;28;01mimport\u001b[39;00m \u001b[38;5;21;01msys\u001b[39;00m\n\u001b[1;32m     26\u001b[0m     msg \u001b[38;5;241m=\u001b[39m \u001b[38;5;124m\"\"\"\u001b[39m\n\u001b[1;32m     27\u001b[0m \n\u001b[1;32m     28\u001b[0m \u001b[38;5;124mIMPORTANT: PLEASE READ THIS FOR ADVICE ON HOW TO SOLVE THIS ISSUE!\u001b[39m\n\u001b[0;32m   (...)\u001b[0m\n\u001b[1;32m     47\u001b[0m \u001b[38;5;124m\"\"\"\u001b[39m \u001b[38;5;241m%\u001b[39m (sys\u001b[38;5;241m.\u001b[39mversion_info[\u001b[38;5;241m0\u001b[39m], sys\u001b[38;5;241m.\u001b[39mversion_info[\u001b[38;5;241m1\u001b[39m], sys\u001b[38;5;241m.\u001b[39mexecutable,\n\u001b[1;32m     48\u001b[0m         __version__, exc)\n\u001b[0;32m---> 49\u001b[0m     \u001b[38;5;28;01mraise\u001b[39;00m \u001b[38;5;167;01mImportError\u001b[39;00m(msg)\n\u001b[1;32m     50\u001b[0m \u001b[38;5;28;01mfinally\u001b[39;00m:\n\u001b[1;32m     51\u001b[0m     \u001b[38;5;28;01mfor\u001b[39;00m envkey \u001b[38;5;129;01min\u001b[39;00m env_added:\n",
      "\u001b[0;31mImportError\u001b[0m: \n\nIMPORTANT: PLEASE READ THIS FOR ADVICE ON HOW TO SOLVE THIS ISSUE!\n\nImporting the numpy C-extensions failed. This error can happen for\nmany reasons, often due to issues with your setup or how NumPy was\ninstalled.\n\nWe have compiled some common reasons and troubleshooting tips at:\n\n    https://numpy.org/devdocs/user/troubleshooting-importerror.html\n\nPlease note and check the following:\n\n  * The Python version is: Python3.11 from \"/Users/c2cypher/anaconda3/bin/python\"\n  * The NumPy version is: \"1.24.3\"\n\nand make sure that they are the versions you expect.\nPlease carefully study the documentation linked above for further help.\n\nOriginal error was: dlopen(/Users/c2cypher/anaconda3/lib/python3.11/site-packages/numpy/core/_multiarray_umath.cpython-311-darwin.so, 0x0002): Library not loaded: @rpath/libopenblas.0.dylib\n  Referenced from: /Users/c2cypher/anaconda3/lib/python3.11/site-packages/numpy/core/_multiarray_umath.cpython-311-darwin.so\n  Reason: tried: '/Users/c2cypher/anaconda3/lib/python3.11/site-packages/numpy/core/../../../../libopenblas.0.dylib' (no such file), '/Users/c2cypher/anaconda3/lib/python3.11/site-packages/numpy/core/../../../../libopenblas.0.dylib' (no such file), '/Users/c2cypher/anaconda3/bin/../lib/libopenblas.0.dylib' (no such file), '/Users/c2cypher/anaconda3/bin/../lib/libopenblas.0.dylib' (no such file), '/usr/local/lib/libopenblas.0.dylib' (no such file), '/usr/lib/libopenblas.0.dylib' (no such file)\n"
     ]
    }
   ],
   "source": [
    "import numpy as np\n",
    "\n",
    "grades = np.array([[66, 63, 40],\n",
    "       [65, 32, 28],\n",
    "       [47, 43, 69],\n",
    "       [51, 40, 30],\n",
    "       [39, 32, 60],\n",
    "       [32, 49, 67],\n",
    "       [61, 63, 63],\n",
    "       [45, 39, 29],\n",
    "       [35, 64, 36],\n",
    "       [47, 55, 61],\n",
    "       [34, 21, 40],\n",
    "       [29, 33, 21],\n",
    "       [58, 65, 27],\n",
    "       [44, 57, 40],\n",
    "       [47, 68, 23],\n",
    "       [23, 68, 62],\n",
    "       [22, 33, 31],\n",
    "       [62, 57, 27],\n",
    "       [46, 37, 29],\n",
    "       [35, 62, 25]])"
   ]
  },
  {
   "cell_type": "markdown",
   "id": "612b5273-c6f3-477e-9eb3-d83b49860bec",
   "metadata": {},
   "source": [
    "# Exercise 3\n",
    "\n",
    "Linear regression is fundamental to many areas of data science, including machine learning. Linear regression is defined as\n",
    "$$ y = \\sum_{i=1}^F x_i c_i $$\n",
    "where $x_i$ is a feature and $c_i$ is a learned coefficient. Intuitively, this is making a prediction for a single instance. We can expand this to many examples in a dataset. This expansion can be rewritten using matricies and vectors as\n",
    "$$ \\mathbf{y} = \\mathbf{X} \\mathbf{c}$$\n",
    "where $\\mathbf{X}$ is a matrix with $N$ rows and $k$ columns, and $\\mathbf{c}$ is a vector with $k$ elements. Building on Exercise 2, the rows of $\\mathbf{X}$ represent students and the columns represent tests. We are going to play with the weights of $\\mathbf{c}$ to gain intuition of what is happening.\n",
    "\n",
    "Assume that the 3 tests each student has taken are going to be used to predict what they will get on the final exam. We are going to play with the weights to gain intuition about about linear regression.\n",
    "\n",
    "**YOUR TASK:** Modify the variable ```weights``` to accomplish the following tasks:\n",
    "1. Modify the weights such that the final exam score prediction is equal to their last exam (i.e., the last column of ```grades```).\n",
    "2. Modify the weights such that all students have a score greater than 100.\n",
    "3. Modify the weights such that all students have a score less than -100.\n",
    "4. Modify the weights such that all students have predicted grad of 0.\n",
    "\n",
    "**TIME**: Remainder of class."
   ]
  },
  {
   "cell_type": "code",
   "execution_count": 2,
   "id": "203d6d91-b456-47c5-a389-050a9fa96248",
   "metadata": {},
   "outputs": [
    {
     "ename": "NameError",
     "evalue": "name 'np' is not defined",
     "output_type": "error",
     "traceback": [
      "\u001b[0;31m---------------------------------------------------------------------------\u001b[0m",
      "\u001b[0;31mNameError\u001b[0m                                 Traceback (most recent call last)",
      "Cell \u001b[0;32mIn[2], line 1\u001b[0m\n\u001b[0;32m----> 1\u001b[0m weights \u001b[38;5;241m=\u001b[39m np\u001b[38;5;241m.\u001b[39marray([\u001b[38;5;241m.3333\u001b[39m, \u001b[38;5;241m.3333\u001b[39m, \u001b[38;5;241m.3333\u001b[39m])\n",
      "\u001b[0;31mNameError\u001b[0m: name 'np' is not defined"
     ]
    }
   ],
   "source": [
    "weights = np.array([.3333, .3333, .3333]) # MODIFY THE WEIGHTS HERE"
   ]
  },
  {
   "cell_type": "code",
   "execution_count": 12,
   "id": "522625b7-5567-42ee-9313-4ca7412dfd77",
   "metadata": {},
   "outputs": [
    {
     "name": "stdout",
     "output_type": "stream",
     "text": [
      "[56.3277 41.6625 52.9947 40.3293 43.6623 49.3284 62.3271 37.6629 44.9955\n",
      " 54.3279 31.6635 27.6639 49.995  46.9953 45.9954 50.9949 28.6638 48.6618\n",
      " 37.3296 40.6626]\n"
     ]
    }
   ],
   "source": [
    "predictions = grades.dot(weights) # This is the predictions of the linear regression model.\n",
    "print(predictions) # This prints the predictions"
   ]
  },
  {
   "cell_type": "code",
   "execution_count": 1,
   "id": "1aacac4d-23f9-4055-aa6a-2a708c781ad6",
   "metadata": {},
   "outputs": [
    {
     "ename": "ImportError",
     "evalue": "\n\nIMPORTANT: PLEASE READ THIS FOR ADVICE ON HOW TO SOLVE THIS ISSUE!\n\nImporting the numpy C-extensions failed. This error can happen for\nmany reasons, often due to issues with your setup or how NumPy was\ninstalled.\n\nWe have compiled some common reasons and troubleshooting tips at:\n\n    https://numpy.org/devdocs/user/troubleshooting-importerror.html\n\nPlease note and check the following:\n\n  * The Python version is: Python3.11 from \"/Users/c2cypher/anaconda3/bin/python\"\n  * The NumPy version is: \"1.24.3\"\n\nand make sure that they are the versions you expect.\nPlease carefully study the documentation linked above for further help.\n\nOriginal error was: dlopen(/Users/c2cypher/anaconda3/lib/python3.11/site-packages/numpy/core/_multiarray_umath.cpython-311-darwin.so, 0x0002): Library not loaded: @rpath/libopenblas.0.dylib\n  Referenced from: /Users/c2cypher/anaconda3/lib/python3.11/site-packages/numpy/core/_multiarray_umath.cpython-311-darwin.so\n  Reason: tried: '/Users/c2cypher/anaconda3/lib/python3.11/site-packages/numpy/core/../../../../libopenblas.0.dylib' (no such file), '/Users/c2cypher/anaconda3/lib/python3.11/site-packages/numpy/core/../../../../libopenblas.0.dylib' (no such file), '/Users/c2cypher/anaconda3/bin/../lib/libopenblas.0.dylib' (no such file), '/Users/c2cypher/anaconda3/bin/../lib/libopenblas.0.dylib' (no such file), '/usr/local/lib/libopenblas.0.dylib' (no such file), '/usr/lib/libopenblas.0.dylib' (no such file)\n",
     "output_type": "error",
     "traceback": [
      "\u001b[0;31m---------------------------------------------------------------------------\u001b[0m",
      "\u001b[0;31mImportError\u001b[0m                               Traceback (most recent call last)",
      "File \u001b[0;32m~/anaconda3/lib/python3.11/site-packages/numpy/core/__init__.py:23\u001b[0m\n\u001b[1;32m     22\u001b[0m \u001b[38;5;28;01mtry\u001b[39;00m:\n\u001b[0;32m---> 23\u001b[0m     \u001b[38;5;28;01mfrom\u001b[39;00m \u001b[38;5;21;01m.\u001b[39;00m \u001b[38;5;28;01mimport\u001b[39;00m multiarray\n\u001b[1;32m     24\u001b[0m \u001b[38;5;28;01mexcept\u001b[39;00m \u001b[38;5;167;01mImportError\u001b[39;00m \u001b[38;5;28;01mas\u001b[39;00m exc:\n",
      "File \u001b[0;32m~/anaconda3/lib/python3.11/site-packages/numpy/core/multiarray.py:10\u001b[0m\n\u001b[1;32m      9\u001b[0m \u001b[38;5;28;01mimport\u001b[39;00m \u001b[38;5;21;01mfunctools\u001b[39;00m\n\u001b[0;32m---> 10\u001b[0m \u001b[38;5;28;01mfrom\u001b[39;00m \u001b[38;5;21;01m.\u001b[39;00m \u001b[38;5;28;01mimport\u001b[39;00m overrides\n\u001b[1;32m     11\u001b[0m \u001b[38;5;28;01mfrom\u001b[39;00m \u001b[38;5;21;01m.\u001b[39;00m \u001b[38;5;28;01mimport\u001b[39;00m _multiarray_umath\n",
      "File \u001b[0;32m~/anaconda3/lib/python3.11/site-packages/numpy/core/overrides.py:6\u001b[0m\n\u001b[1;32m      4\u001b[0m \u001b[38;5;28;01mimport\u001b[39;00m \u001b[38;5;21;01mos\u001b[39;00m\n\u001b[0;32m----> 6\u001b[0m \u001b[38;5;28;01mfrom\u001b[39;00m \u001b[38;5;21;01mnumpy\u001b[39;00m\u001b[38;5;21;01m.\u001b[39;00m\u001b[38;5;21;01mcore\u001b[39;00m\u001b[38;5;21;01m.\u001b[39;00m\u001b[38;5;21;01m_multiarray_umath\u001b[39;00m \u001b[38;5;28;01mimport\u001b[39;00m (\n\u001b[1;32m      7\u001b[0m     add_docstring, implement_array_function, _get_implementing_args)\n\u001b[1;32m      8\u001b[0m \u001b[38;5;28;01mfrom\u001b[39;00m \u001b[38;5;21;01mnumpy\u001b[39;00m\u001b[38;5;21;01m.\u001b[39;00m\u001b[38;5;21;01mcompat\u001b[39;00m\u001b[38;5;21;01m.\u001b[39;00m\u001b[38;5;21;01m_inspect\u001b[39;00m \u001b[38;5;28;01mimport\u001b[39;00m getargspec\n",
      "\u001b[0;31mImportError\u001b[0m: dlopen(/Users/c2cypher/anaconda3/lib/python3.11/site-packages/numpy/core/_multiarray_umath.cpython-311-darwin.so, 0x0002): Library not loaded: @rpath/libopenblas.0.dylib\n  Referenced from: /Users/c2cypher/anaconda3/lib/python3.11/site-packages/numpy/core/_multiarray_umath.cpython-311-darwin.so\n  Reason: tried: '/Users/c2cypher/anaconda3/lib/python3.11/site-packages/numpy/core/../../../../libopenblas.0.dylib' (no such file), '/Users/c2cypher/anaconda3/lib/python3.11/site-packages/numpy/core/../../../../libopenblas.0.dylib' (no such file), '/Users/c2cypher/anaconda3/bin/../lib/libopenblas.0.dylib' (no such file), '/Users/c2cypher/anaconda3/bin/../lib/libopenblas.0.dylib' (no such file), '/usr/local/lib/libopenblas.0.dylib' (no such file), '/usr/lib/libopenblas.0.dylib' (no such file)",
      "\nDuring handling of the above exception, another exception occurred:\n",
      "\u001b[0;31mImportError\u001b[0m                               Traceback (most recent call last)",
      "Cell \u001b[0;32mIn[1], line 1\u001b[0m\n\u001b[0;32m----> 1\u001b[0m \u001b[38;5;28;01mimport\u001b[39;00m \u001b[38;5;21;01mnumpy\u001b[39;00m \u001b[38;5;28;01mas\u001b[39;00m \u001b[38;5;21;01mnp\u001b[39;00m\n\u001b[1;32m      2\u001b[0m a \u001b[38;5;241m=\u001b[39m np\u001b[38;5;241m.\u001b[39marray([\u001b[38;5;241m1\u001b[39m,\u001b[38;5;241m2\u001b[39m,\u001b[38;5;241m3\u001b[39m])\n\u001b[1;32m      3\u001b[0m b \u001b[38;5;241m=\u001b[39m np\u001b[38;5;241m.\u001b[39marray([\u001b[38;5;241m1\u001b[39m,\u001b[38;5;241m1\u001b[39m,\u001b[38;5;241m1\u001b[39m])\n",
      "File \u001b[0;32m~/anaconda3/lib/python3.11/site-packages/numpy/__init__.py:141\u001b[0m\n\u001b[1;32m    138\u001b[0m \u001b[38;5;66;03m# Allow distributors to run custom init code\u001b[39;00m\n\u001b[1;32m    139\u001b[0m \u001b[38;5;28;01mfrom\u001b[39;00m \u001b[38;5;21;01m.\u001b[39;00m \u001b[38;5;28;01mimport\u001b[39;00m _distributor_init\n\u001b[0;32m--> 141\u001b[0m \u001b[38;5;28;01mfrom\u001b[39;00m \u001b[38;5;21;01m.\u001b[39;00m \u001b[38;5;28;01mimport\u001b[39;00m core\n\u001b[1;32m    142\u001b[0m \u001b[38;5;28;01mfrom\u001b[39;00m \u001b[38;5;21;01m.\u001b[39;00m\u001b[38;5;21;01mcore\u001b[39;00m \u001b[38;5;28;01mimport\u001b[39;00m \u001b[38;5;241m*\u001b[39m\n\u001b[1;32m    143\u001b[0m \u001b[38;5;28;01mfrom\u001b[39;00m \u001b[38;5;21;01m.\u001b[39;00m \u001b[38;5;28;01mimport\u001b[39;00m compat\n",
      "File \u001b[0;32m~/anaconda3/lib/python3.11/site-packages/numpy/core/__init__.py:49\u001b[0m\n\u001b[1;32m     25\u001b[0m     \u001b[38;5;28;01mimport\u001b[39;00m \u001b[38;5;21;01msys\u001b[39;00m\n\u001b[1;32m     26\u001b[0m     msg \u001b[38;5;241m=\u001b[39m \u001b[38;5;124m\"\"\"\u001b[39m\n\u001b[1;32m     27\u001b[0m \n\u001b[1;32m     28\u001b[0m \u001b[38;5;124mIMPORTANT: PLEASE READ THIS FOR ADVICE ON HOW TO SOLVE THIS ISSUE!\u001b[39m\n\u001b[0;32m   (...)\u001b[0m\n\u001b[1;32m     47\u001b[0m \u001b[38;5;124m\"\"\"\u001b[39m \u001b[38;5;241m%\u001b[39m (sys\u001b[38;5;241m.\u001b[39mversion_info[\u001b[38;5;241m0\u001b[39m], sys\u001b[38;5;241m.\u001b[39mversion_info[\u001b[38;5;241m1\u001b[39m], sys\u001b[38;5;241m.\u001b[39mexecutable,\n\u001b[1;32m     48\u001b[0m         __version__, exc)\n\u001b[0;32m---> 49\u001b[0m     \u001b[38;5;28;01mraise\u001b[39;00m \u001b[38;5;167;01mImportError\u001b[39;00m(msg)\n\u001b[1;32m     50\u001b[0m \u001b[38;5;28;01mfinally\u001b[39;00m:\n\u001b[1;32m     51\u001b[0m     \u001b[38;5;28;01mfor\u001b[39;00m envkey \u001b[38;5;129;01min\u001b[39;00m env_added:\n",
      "\u001b[0;31mImportError\u001b[0m: \n\nIMPORTANT: PLEASE READ THIS FOR ADVICE ON HOW TO SOLVE THIS ISSUE!\n\nImporting the numpy C-extensions failed. This error can happen for\nmany reasons, often due to issues with your setup or how NumPy was\ninstalled.\n\nWe have compiled some common reasons and troubleshooting tips at:\n\n    https://numpy.org/devdocs/user/troubleshooting-importerror.html\n\nPlease note and check the following:\n\n  * The Python version is: Python3.11 from \"/Users/c2cypher/anaconda3/bin/python\"\n  * The NumPy version is: \"1.24.3\"\n\nand make sure that they are the versions you expect.\nPlease carefully study the documentation linked above for further help.\n\nOriginal error was: dlopen(/Users/c2cypher/anaconda3/lib/python3.11/site-packages/numpy/core/_multiarray_umath.cpython-311-darwin.so, 0x0002): Library not loaded: @rpath/libopenblas.0.dylib\n  Referenced from: /Users/c2cypher/anaconda3/lib/python3.11/site-packages/numpy/core/_multiarray_umath.cpython-311-darwin.so\n  Reason: tried: '/Users/c2cypher/anaconda3/lib/python3.11/site-packages/numpy/core/../../../../libopenblas.0.dylib' (no such file), '/Users/c2cypher/anaconda3/lib/python3.11/site-packages/numpy/core/../../../../libopenblas.0.dylib' (no such file), '/Users/c2cypher/anaconda3/bin/../lib/libopenblas.0.dylib' (no such file), '/Users/c2cypher/anaconda3/bin/../lib/libopenblas.0.dylib' (no such file), '/usr/local/lib/libopenblas.0.dylib' (no such file), '/usr/lib/libopenblas.0.dylib' (no such file)\n"
     ]
    }
   ],
   "source": [
    "import numpy as np\n",
    "a = np.array([1,2,3])\n",
    "b = np.array([1,1,1])\n",
    "# print(a+b)\n",
    "\n",
    "# a = [1,2,3]\n",
    "# b = [1,1,1] \n",
    "c = a + b\n",
    "print(c)"
   ]
  },
  {
   "cell_type": "code",
   "execution_count": null,
   "id": "afd184fe",
   "metadata": {},
   "outputs": [],
   "source": []
  }
 ],
 "metadata": {
  "kernelspec": {
   "display_name": "Python 3 (ipykernel)",
   "language": "python",
   "name": "python3"
  },
  "language_info": {
   "codemirror_mode": {
    "name": "ipython",
    "version": 3
   },
   "file_extension": ".py",
   "mimetype": "text/x-python",
   "name": "python",
   "nbconvert_exporter": "python",
   "pygments_lexer": "ipython3",
   "version": "3.11.5"
  }
 },
 "nbformat": 4,
 "nbformat_minor": 5
}
