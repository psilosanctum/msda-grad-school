{
 "cells": [
  {
   "cell_type": "code",
   "execution_count": null,
   "id": "5d7a6edc-437b-4463-bc98-52d2d3848066",
   "metadata": {},
   "outputs": [],
   "source": [
    "# QUESTIONS?\n",
    "\n",
    "# Features\n",
    "\n",
    "# Machine Learining -> f(x) = y, question: What is x?\n",
    "\n",
    "# Example 1: Customer Churn (e.g., predict when a customer will stop being a customer at a bank)\n",
    "\n",
    "## Features\n",
    "\n",
    "# Example 2: Forecasting (e.g., predict uber usage at a given time in a given city)\n",
    "\n",
    "## Features\n",
    "\n",
    "# Example 3: General Prediction: Predict how fast someone will run a 5k race.\n",
    "\n",
    "## Features"
   ]
  },
  {
   "cell_type": "code",
   "execution_count": null,
   "id": "97b8fa2c-a3dc-4ac0-bd26-90876da04589",
   "metadata": {},
   "outputs": [],
   "source": [
    "# Numpy\n",
    "\n",
    "# Vectors\n",
    "\n",
    "## Creating\n",
    "\n",
    "## Get Size\n",
    "\n",
    "## Sum/Average\n",
    "\n",
    "## Addition/Subtraction\n",
    "\n",
    "## Fancy indexing\n",
    "\n",
    "## Dot (inner) product\n",
    "\n",
    "## Arggggggg (argmax)\n",
    "\n",
    "# Matricies\n",
    "\n",
    "## Similar operations as Vectors\n"
   ]
  },
  {
   "cell_type": "markdown",
   "id": "9e8906c5-5414-428e-93e9-ab2b5bcac800",
   "metadata": {},
   "source": [
    "# Exercise 1\n",
    "\n",
    "For this exercise you get to use your imagination. Think of three potential \"predictive tasks\" (i.e., applications of machine learning). Then, for each task, come up with at least 5 features that are useful for the task. Then, for each feature, think about what type of feature it would be (boolean, Numeric, Ordinal, Categorical, multi-category, etc.) See the example below:\n",
    "\n",
    "**TASK 1**: Predict customer churn at Facebook (i..e, predicting yes or no if a user will delete their account in the next 6 months)\n",
    "\n",
    "**Features for Task 1**:\n",
    "1. How often have they logged into Facebook in the last month?\n",
    "    1. Numeric, e.g., 7 days\n",
    "2. How many comments have they made in the last month?\n",
    "    1. Numeric, e.g., 24 comments\n",
    "3. How many likes have they given in the last month?\n",
    "    1. Numeric, e.g., 120 likes\n",
    "4. How many friends does the user have?\n",
    "    1. Numeric, e.g., 1 friend\n",
    "5. What is the longest period of inactivity of the user since creating an account?\n",
    "    1. Numeric, e.g., 92 days\n",
    "6. What is the age of the user?\n",
    "    1. Numeric, e.g., 50 years old\n",
    "7. Is the user a \"verified account\"?\n",
    "    1. boolean, e.g., \"yes\" or \"no\"\n",
    "    \n",
    "**TIME:** 15 minutes"
   ]
  },
  {
   "cell_type": "code",
   "execution_count": null,
   "id": "a18509f5-db6d-4015-952e-a7c189056988",
   "metadata": {},
   "outputs": [],
   "source": []
  },
  {
   "cell_type": "markdown",
   "id": "8ddb59ca-33cd-4f95-a3de-ca7a89dd40a9",
   "metadata": {},
   "source": [
    "# Exercise 2\n",
    "\n",
    "You have a dataset containg test grades for each student in a 5th grade class. There were 3 tests in the course. Using the matrix\n",
    "\n",
    "**YOUR TASK**: The matrix ```grades``` has 3 columns and 20 rows. Using this matrix, complete the following tasks:\n",
    "\n",
    "1. What is the max test grade for each test? HINT: Use \".max(axis=0)\".\n",
    "2. Which row (user) contains the max test grade for each test? i.e., find the user with the max test grade for each test. HINT: First, select a column, then use \".argmax()\".\n",
    "2. Which user (row) had the highest average grade? HINT: First, calculate use \".mean(axis=1)\", then use \".argmax()\"\n",
    "3. Find how many students achived an average score greater than 50. HINT: Calculate average (.mean(axis=1)), then use \"fancy indexing\" to find scores > 50. \n",
    "4. The students performed terribly on each test. Unfortunately, for the students, you (the teacher) are in a bad mood. Instead of curving the students grade up in the class, you want to reduce the students grade by 10\\% for not listening to your instruction. HINT: You should use \"matrix subtraction\" combined with \"scalar-matrix\" multiplication, i.e., X = A - A*b\n",
    "\n",
    "**TIME**: 15 minutes"
   ]
  },
  {
   "cell_type": "code",
   "execution_count": 3,
   "id": "e9cb7063-2c3e-4c66-a471-9bba83369e46",
   "metadata": {},
   "outputs": [],
   "source": [
    "import numpy as np\n",
    "\n",
    "grades = np.array([[66, 63, 40],\n",
    "       [65, 32, 28],\n",
    "       [47, 43, 69],\n",
    "       [51, 40, 30],\n",
    "       [39, 32, 60],\n",
    "       [32, 49, 67],\n",
    "       [61, 63, 63],\n",
    "       [45, 39, 29],\n",
    "       [35, 64, 36],\n",
    "       [47, 55, 61],\n",
    "       [34, 21, 40],\n",
    "       [29, 33, 21],\n",
    "       [58, 65, 27],\n",
    "       [44, 57, 40],\n",
    "       [47, 68, 23],\n",
    "       [23, 68, 62],\n",
    "       [22, 33, 31],\n",
    "       [62, 57, 27],\n",
    "       [46, 37, 29],\n",
    "       [35, 62, 25]])"
   ]
  },
  {
   "cell_type": "markdown",
   "id": "612b5273-c6f3-477e-9eb3-d83b49860bec",
   "metadata": {},
   "source": [
    "# Exercise 3\n",
    "\n",
    "Linear regression is fundamental to many areas of data science, including machine learning. Linear regression is defined as\n",
    "$$ y = \\sum_{i=1}^F x_i c_i $$\n",
    "where $x_i$ is a feature and $c_i$ is a learned coefficient. Intuitively, this is making a prediction for a single instance. We can expand this to many examples in a dataset. This expansion can be rewritten using matricies and vectors as\n",
    "$$ \\mathbf{y} = \\mathbf{X} \\mathbf{c}$$\n",
    "where $\\mathbf{X}$ is a matrix with $N$ rows and $k$ columns, and $\\mathbf{c}$ is a vector with $k$ elements. Building on Exercise 2, the rows of $\\mathbf{X}$ represent students and the columns represent tests. We are going to play with the weights of $\\mathbf{c}$ to gain intuition of what is happening.\n",
    "\n",
    "Assume that the 3 tests each student has taken are going to be used to predict what they will get on the final exam. We are going to play with the weights to gain intuition about about linear regression.\n",
    "\n",
    "**YOUR TASK:** Modify the variable ```weights``` to accomplish the following tasks:\n",
    "1. Modify the weights such that the final exam score prediction is equal to their last exam (i.e., the last column of ```grades```).\n",
    "2. Modify the weights such that all students have a score greater than 100.\n",
    "3. Modify the weights such that all students have a score less than -100.\n",
    "4. Modify the weights such that all students have predicted grad of 0.\n",
    "\n",
    "**TIME**: Remainder of class."
   ]
  },
  {
   "cell_type": "code",
   "execution_count": 9,
   "id": "203d6d91-b456-47c5-a389-050a9fa96248",
   "metadata": {},
   "outputs": [],
   "source": [
    "weights = np.array([.3333, .3333, .3333]) # MODIFY THE WEIGHTS HERE"
   ]
  },
  {
   "cell_type": "code",
   "execution_count": 12,
   "id": "522625b7-5567-42ee-9313-4ca7412dfd77",
   "metadata": {},
   "outputs": [
    {
     "name": "stdout",
     "output_type": "stream",
     "text": [
      "[56.3277 41.6625 52.9947 40.3293 43.6623 49.3284 62.3271 37.6629 44.9955\n",
      " 54.3279 31.6635 27.6639 49.995  46.9953 45.9954 50.9949 28.6638 48.6618\n",
      " 37.3296 40.6626]\n"
     ]
    }
   ],
   "source": [
    "predictions = grades.dot(weights) # This is the predictions of the linear regression model.\n",
    "print(predictions) # This prints the predictions"
   ]
  },
  {
   "cell_type": "code",
   "execution_count": null,
   "id": "1aacac4d-23f9-4055-aa6a-2a708c781ad6",
   "metadata": {},
   "outputs": [],
   "source": []
  }
 ],
 "metadata": {
  "kernelspec": {
   "display_name": "Python 3 (ipykernel)",
   "language": "python",
   "name": "python3"
  },
  "language_info": {
   "codemirror_mode": {
    "name": "ipython",
    "version": 3
   },
   "file_extension": ".py",
   "mimetype": "text/x-python",
   "name": "python",
   "nbconvert_exporter": "python",
   "pygments_lexer": "ipython3",
   "version": "3.8.12"
  }
 },
 "nbformat": 4,
 "nbformat_minor": 5
}
