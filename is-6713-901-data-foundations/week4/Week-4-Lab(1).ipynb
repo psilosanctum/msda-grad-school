{
 "cells": [
  {
   "cell_type": "markdown",
   "metadata": {},
   "source": [
    "# Python Lab Notebook\n",
    "\n",
    "Blank notebook to be used for class exercises.\n",
    "\n",
    "Name: Collin Real\n",
    "\n",
    "abc123: yhi267"
   ]
  },
  {
   "cell_type": "markdown",
   "metadata": {},
   "source": [
    "## Exercise 1\n",
    "\n",
    "Write code that reads the csv file \"housing_prices.csv\" and calculate/print the following:\n",
    "- Calculate and print the sum of all house prices. Do not use the sum() method\n",
    "- Calculate and print the average price. Do not use any external packages.\n",
    "- Calculate and print the max price (all prices are > 0). Do not use the max() method.\n",
    "- Print the name of the street that contains the house with the most expensive house.\n",
    "\n",
    "The path for the file is \"./house_prices.csv\".\n",
    "\n",
    "**Important Python concepts:** for, lists, open ('r'), if (>)\n",
    "\n",
    "Run the cell below to view the \"house_prices.csv\" file."
   ]
  },
  {
   "cell_type": "code",
   "execution_count": null,
   "metadata": {},
   "outputs": [
    {
     "name": "stdout",
     "output_type": "stream",
     "text": [
      "\"street name\",\"square feet\",\"price\"\n",
      "\"Sreet 1\",400,10000\n",
      "\"Street 2\",650,15000\n",
      "\"Street 3\",1000,20000\n",
      "\n"
     ]
    }
   ],
   "source": [
    "with open(\"house_prices.csv\") as iFile:\n",
    "    print(iFile.read())"
   ]
  },
  {
   "cell_type": "code",
   "execution_count": 3,
   "metadata": {},
   "outputs": [
    {
     "name": "stdout",
     "output_type": "stream",
     "text": [
      "['Sreet 1', '400', '10000']\n",
      "['Street 2', '650', '15000']\n",
      "['Street 3', '1000', '20000']\n",
      "Num Houses: 3\n",
      "Avg Price: 15000.0\n",
      "Max Price: 20000.0\n",
      "Street with Max Price: Street 3\n"
     ]
    }
   ],
   "source": [
    "import csv\n",
    "price_sum = 0\n",
    "num_house = 0\n",
    "max_price = 0\n",
    "max_price_name = ''\n",
    "\n",
    "myFile = open('house_prices.csv')\n",
    "myCSV = csv.reader(myFile, delimiter=',')\n",
    "next(myCSV)\n",
    "\n",
    "for row in myCSV:\n",
    "    num_house += 1\n",
    "    cur_price = float(row[2])\n",
    "    price_sum += cur_price\n",
    "\n",
    "    if cur_price > max_price:\n",
    "        max_price = cur_price\n",
    "        max_price_name = row[0]\n",
    "    \n",
    "    print(row)\n",
    "\n",
    "myFile.close()\n",
    "avg_price = price_sum/num_house\n",
    "\n",
    "print(\"Num Houses: {}\".format(num_house))\n",
    "print(\"Avg Price: {}\".format(avg_price))\n",
    "print(\"Max Price: {}\".format(max_price))\n",
    "print(\"Street with Max Price: {}\".format(max_price_name))"
   ]
  },
  {
   "cell_type": "markdown",
   "metadata": {},
   "source": [
    "## Exercise 2\n",
    "\n",
    "Given the following list of lists\n",
    "\n",
    "myData = [['name','department','birthday month'], ['JohnDoe','Marketing','November'],['Jane Smith', 'IT', 'March']]\n",
    "\n",
    "create a csv file that is delimited with the tab ('\\t') character using the csv.writer() method. Name the file \"employee_birthday.csv\"."
   ]
  },
  {
   "cell_type": "code",
   "execution_count": 4,
   "metadata": {},
   "outputs": [],
   "source": [
    "myData = [['name','department','birthday month'], ['John Doe','Marketing','November'],['Jane Smith', 'IT', 'March']]"
   ]
  },
  {
   "cell_type": "code",
   "execution_count": 5,
   "metadata": {},
   "outputs": [],
   "source": [
    "import csv\n",
    "\n",
    "out_file = open(\"employee_birthday.csv\", 'w', newline='')\n",
    "oCSV = csv.writer(out_file, delimiter='\\t')\n",
    "\n",
    "for row in myData:\n",
    "    oCSV.writerow(row)\n",
    "\n",
    "out_file.close()"
   ]
  },
  {
   "cell_type": "markdown",
   "metadata": {},
   "source": [
    "Run the line below to check your work:"
   ]
  },
  {
   "cell_type": "code",
   "execution_count": 6,
   "metadata": {},
   "outputs": [
    {
     "name": "stdout",
     "output_type": "stream",
     "text": [
      "name\tdepartment\tbirthday month\n",
      "John Doe\tMarketing\tNovember\n",
      "Jane Smith\tIT\tMarch\n",
      "\n"
     ]
    }
   ],
   "source": [
    "with open(\"employee_birthday.csv\", \"r\") as inFile:\n",
    "    print(inFile.read())"
   ]
  },
  {
   "cell_type": "markdown",
   "metadata": {},
   "source": [
    "## Exercise 3\n",
    "\n",
    "A garden center has an XML (plant_catalog.xml) file that stores information, including price, for all plants they sell. The store is having a sale where everything is 20% off. Write a program that that prints the plant \"COMMON\" name, the current price, and the new sale price. An example of what the output should look like is shown below:\n",
    "\n",
    "```\n",
    "Bloodroot $2.44 to $1.95\n",
    "Columbine $9.37 to $7.50\n",
    "Marsh Marigold $6.81 to $5.45\n",
    "...```\n",
    "        \n",
    "File absolute path: \"./plant_catalog.xml\"\n",
    "**Hint:** You will need to use \"string indexing\"."
   ]
  },
  {
   "cell_type": "code",
   "execution_count": 7,
   "metadata": {},
   "outputs": [
    {
     "name": "stdout",
     "output_type": "stream",
     "text": [
      "<?xml version=\"1.0\" encoding=\"UTF-8\"?>\n",
      "<CATALOG>\n",
      "  <PLANT>\n",
      "    <COMMON>Bloodroot</COMMON>\n",
      "    <BOTANICAL>Sanguinaria canadensis</BOTANICAL>\n",
      "    <ZONE>4</ZONE>\n",
      "    <LIGHT>Mostly Shady</LIGHT>\n",
      "    <PRICE>$2.44</PRICE>\n",
      "    <AVAILABILITY>031599</AVAILABILITY>\n",
      "  </PLANT>\n",
      "  <PLANT>\n",
      "    <COMMON>Columbine</COMMON>\n",
      "    <BOTANICAL>Aquilegia canadensis</BOTANICAL>\n",
      "    <ZONE>3</ZONE>\n",
      "    <LIGHT>Mostly Shady</LIGHT>\n",
      "    <PRICE>$9.37</PRICE>\n",
      "    <AVAILABILITY>030699</AVAILABILITY>\n",
      "  </PLANT>\n",
      "  <PLANT>\n",
      "    <COMMON>Marsh Marigold</COMMON>\n",
      "    <BOTANICAL>Caltha palustris</BOTANICAL>\n",
      "    <ZONE>4</ZONE>\n",
      "    <LIGHT>Mostly Sunny</LIGHT>\n",
      "    <PRICE>$6.81</PRICE>\n",
      "    <AVAILABILITY>051799</AVAILABILITY>\n",
      "  </PLANT>\n",
      "\n"
     ]
    }
   ],
   "source": [
    "# Use this code to look at the structure of plant_catalog.xml\n",
    "# n = number of lines to show\n",
    "n = 26\n",
    "with open(\"plant_catalog.xml\") as myfile:\n",
    "    head = [next(myfile) for x in range(n)]\n",
    "print(''.join(head))"
   ]
  },
  {
   "cell_type": "code",
   "execution_count": 8,
   "metadata": {},
   "outputs": [
    {
     "name": "stdout",
     "output_type": "stream",
     "text": [
      "Bloodroot $2.44 $2.20\n",
      "Columbine $9.37 $8.43\n",
      "Marsh Marigold $6.81 $6.13\n",
      "Cowslip $9.90 $8.91\n",
      "Dutchman's-Breeches $6.44 $5.80\n",
      "Ginger, Wild $9.03 $8.13\n",
      "Hepatica $4.45 $4.00\n",
      "Liverleaf $3.99 $3.59\n",
      "Jack-In-The-Pulpit $3.23 $2.91\n",
      "Mayapple $2.98 $2.68\n",
      "Phlox, Woodland $2.80 $2.52\n",
      "Phlox, Blue $5.59 $5.03\n",
      "Spring-Beauty $6.59 $5.93\n",
      "Trillium $3.90 $3.51\n",
      "Wake Robin $3.20 $2.88\n",
      "Violet, Dog-Tooth $9.04 $8.14\n",
      "Trout Lily $6.94 $6.25\n",
      "Adder's-Tongue $9.58 $8.62\n",
      "Anemone $8.86 $7.97\n",
      "Grecian Windflower $9.16 $8.24\n",
      "Bee Balm $4.59 $4.13\n",
      "Bergamot $7.16 $6.44\n",
      "Black-Eyed Susan $9.80 $8.82\n",
      "Buttercup $2.57 $2.31\n",
      "Crowfoot $9.34 $8.41\n",
      "Butterfly Weed $2.78 $2.50\n",
      "Cinquefoil $7.06 $6.35\n",
      "Primrose $6.56 $5.90\n",
      "Gentian $7.81 $7.03\n",
      "Blue Gentian $8.56 $7.70\n",
      "Jacob's Ladder $9.26 $8.33\n",
      "Greek Valerian $4.36 $3.92\n",
      "California Poppy $7.89 $7.10\n",
      "Shooting Star $8.60 $7.74\n",
      "Snakeroot $5.63 $5.07\n",
      "Cardinal Flower $3.02 $2.72\n"
     ]
    }
   ],
   "source": [
    "import xml.etree.ElementTree as ET\n",
    "\n",
    "myFile = open(\"plant_catalog.xml\")\n",
    "\n",
    "xmlString = myFile.read()\n",
    "\n",
    "root = ET.fromstring(xmlString)\n",
    "\n",
    "plants = root.findall(\"PLANT\")\n",
    "\n",
    "for p in plants:\n",
    "    name = p.find(\"COMMON\").text\n",
    "    price = p.find(\"PRICE\").text\n",
    "    newPrice = 0.9*float(price[1:])\n",
    "\n",
    "    print(\"{} {} ${:.2f}\".format(name, price, newPrice))\n",
    "\n",
    "myFile.close()"
   ]
  },
  {
   "cell_type": "markdown",
   "metadata": {},
   "source": [
    "## Exercise 4\n",
    "\n",
    "Using the \"exampleJSON.json\" file, complete the following tasks:\n",
    "- Load the file into a python dictionary.\n",
    "- Change the email of item with the name \"Anthony\" to \"anthony.rios@utsa.edu\"\n",
    "- Add a new person to the list with the name \"David\" and email \"david@fakeemail.edu\"\n",
    "- Save the new dictionary to a JSON file \"exampleJSON2.json\"\n",
    "\n",
    "File path: ./exampleJSON.json"
   ]
  },
  {
   "cell_type": "code",
   "execution_count": 9,
   "metadata": {},
   "outputs": [
    {
     "name": "stdout",
     "output_type": "stream",
     "text": [
      "[{\"name\": \"Anthony\", \"email\": \"a@utsa.edu\", \"age\": 102}, {\"name\": \"John\", \"email\": \"john@fake.edu\"}, {\"name\": \"Jane\", \"email\": \"jane@fake.edu\"}]\n",
      "\n"
     ]
    }
   ],
   "source": [
    "with open(\"exampleJSON.json\") as iFile:\n",
    "    print(iFile.read())"
   ]
  },
  {
   "cell_type": "code",
   "execution_count": 12,
   "metadata": {},
   "outputs": [],
   "source": [
    "import json\n",
    "\n",
    "inFile = open('exampleJSON.json')\n",
    "\n",
    "jsonData = json.load(inFile)\n",
    "\n",
    "\n",
    "inFile.close()\n"
   ]
  },
  {
   "cell_type": "code",
   "execution_count": 13,
   "metadata": {},
   "outputs": [
    {
     "name": "stdout",
     "output_type": "stream",
     "text": [
      "[{'name': 'Anthony', 'email': 'anthony.rios@utsa.edu', 'age': 102}, {'name': 'John', 'email': 'john@fake.edu'}, {'name': 'Jane', 'email': 'jane@fake.edu'}, {'name': 'David', 'email': 'david@fakeemail.edu'}]\n"
     ]
    }
   ],
   "source": [
    "jsonData[0]['email'] = 'anthony.rios@utsa.edu'\n",
    "newObj = {'name': 'David', 'email': 'david@fakeemail.edu'}\n",
    "jsonData.append(newObj)\n",
    "print(jsonData)"
   ]
  },
  {
   "cell_type": "code",
   "execution_count": 14,
   "metadata": {},
   "outputs": [],
   "source": [
    "outFile = open('exampleJSON2.json', 'w')\n",
    "json.dump(jsonData, outFile)\n",
    "\n",
    "outFile.close()"
   ]
  },
  {
   "cell_type": "markdown",
   "metadata": {},
   "source": [
    "Run the following cell to check your work"
   ]
  },
  {
   "cell_type": "code",
   "execution_count": 64,
   "metadata": {},
   "outputs": [
    {
     "name": "stdout",
     "output_type": "stream",
     "text": [
      "[{\"name\": \"Anthony\", \"email\": \"anthony.utsa.edu\", \"age\": 102}, {\"name\": \"John\", \"email\": \"john@fake.edu\"}, {\"name\": \"Jane\", \"email\": \"jane@fake.edu\"}, {\"name\": \"David\", \"email\": \"abc@utsa.edu\"}]\n"
     ]
    }
   ],
   "source": [
    "# Run this cell to check your code\n",
    "with open(\"exampleJSON2.json\") as iFile:\n",
    "    print(iFile.read())"
   ]
  },
  {
   "cell_type": "markdown",
   "metadata": {},
   "source": [
    "## Exercise 5\n",
    "\n",
    "Write code to loop over the Twitter JSONL file \"twitter.jsonl\" and compute the following:\n",
    "- Count and print the total number of tweets.\n",
    "- Count and print the total number of users are in the dataset. Hint: row['user']['screen_name']\n",
    "- Print the screen name of the user who has the most tweets.\n",
    "\n",
    "**Tip:** Don't process the entire file right away, start by processing 1 to 2 lines."
   ]
  },
  {
   "cell_type": "markdown",
   "metadata": {},
   "source": [
    "Run the next cell to view the first row line of the file"
   ]
  },
  {
   "cell_type": "code",
   "execution_count": 15,
   "metadata": {},
   "outputs": [
    {
     "name": "stdout",
     "output_type": "stream",
     "text": [
      "{'contributors': None,\n",
      " 'coordinates': None,\n",
      " 'created_at': 'Thu Aug 18 17:17:12 +0000 2016',\n",
      " 'display_text_range': [0, 95],\n",
      " 'entities': {'hashtags': [],\n",
      "              'symbols': [],\n",
      "              'urls': [{'display_url': 'dlvr.it/M3sHSw',\n",
      "                        'expanded_url': 'http://dlvr.it/M3sHSw',\n",
      "                        'indices': [72, 95],\n",
      "                        'url': 'https://t.co/uIV7TKHs9K'}],\n",
      "              'user_mentions': []},\n",
      " 'favorite_count': 1,\n",
      " 'favorited': False,\n",
      " 'full_text': 'Adam Cole Praises Kevin Owens + A Preview For Next Week’s ROH '\n",
      "              'Broadcast https://t.co/uIV7TKHs9K',\n",
      " 'geo': None,\n",
      " 'id': 766323071976247296,\n",
      " 'id_str': '766323071976247296',\n",
      " 'in_reply_to_screen_name': None,\n",
      " 'in_reply_to_status_id': None,\n",
      " 'in_reply_to_status_id_str': None,\n",
      " 'in_reply_to_user_id': None,\n",
      " 'in_reply_to_user_id_str': None,\n",
      " 'is_quote_status': False,\n",
      " 'lang': 'en',\n",
      " 'place': None,\n",
      " 'possibly_sensitive': False,\n",
      " 'retweet_count': 0,\n",
      " 'retweeted': False,\n",
      " 'source': '<a href=\"https://dlvrit.com/\" rel=\"nofollow\">dlvr.it</a>',\n",
      " 'truncated': False,\n",
      " 'user': {'contributors_enabled': False,\n",
      "          'created_at': 'Thu Dec 05 09:48:45 +0000 2013',\n",
      "          'default_profile': False,\n",
      "          'default_profile_image': False,\n",
      "          'description': 'i sing my own rhythm.',\n",
      "          'entities': {'description': {'urls': []}},\n",
      "          'favourites_count': 0,\n",
      "          'follow_request_sent': False,\n",
      "          'followers_count': 76,\n",
      "          'following': False,\n",
      "          'friends_count': 15,\n",
      "          'geo_enabled': False,\n",
      "          'has_extended_profile': False,\n",
      "          'id': 2231233110,\n",
      "          'id_str': '2231233110',\n",
      "          'is_translation_enabled': False,\n",
      "          'is_translator': False,\n",
      "          'lang': 'en',\n",
      "          'listed_count': 34,\n",
      "          'location': 'main; @Kan1shk3',\n",
      "          'name': '',\n",
      "          'notifications': False,\n",
      "          'profile_background_color': 'FFFFFF',\n",
      "          'profile_background_image_url': 'http://abs.twimg.com/images/themes/theme1/bg.png',\n",
      "          'profile_background_image_url_https': 'https://abs.twimg.com/images/themes/theme1/bg.png',\n",
      "          'profile_background_tile': False,\n",
      "          'profile_banner_url': 'https://pbs.twimg.com/profile_banners/2231233110/1387622004',\n",
      "          'profile_image_extensions_alt_text': None,\n",
      "          'profile_image_url': 'http://pbs.twimg.com/profile_images/414342229096808449/fYvzqXN7_normal.png',\n",
      "          'profile_image_url_https': 'https://pbs.twimg.com/profile_images/414342229096808449/fYvzqXN7_normal.png',\n",
      "          'profile_link_color': '08C2C2',\n",
      "          'profile_sidebar_border_color': 'FFFFFF',\n",
      "          'profile_sidebar_fill_color': 'DDEEF6',\n",
      "          'profile_text_color': '333333',\n",
      "          'profile_use_background_image': True,\n",
      "          'protected': False,\n",
      "          'screen_name': 'sheezy0',\n",
      "          'statuses_count': 151093,\n",
      "          'time_zone': None,\n",
      "          'translator_type': 'none',\n",
      "          'url': None,\n",
      "          'utc_offset': None,\n",
      "          'verified': False}}\n"
     ]
    }
   ],
   "source": [
    "import pprint\n",
    "import json\n",
    "with open('./twitter.jsonl') as iFile:\n",
    "    for row in iFile:\n",
    "        pprint.pprint(json.loads(row.strip()))\n",
    "        break"
   ]
  },
  {
   "cell_type": "code",
   "execution_count": 18,
   "metadata": {},
   "outputs": [
    {
     "name": "stdout",
     "output_type": "stream",
     "text": [
      "10000\n",
      "4\n",
      "sheezy0\n"
     ]
    }
   ],
   "source": [
    "import json\n",
    "\n",
    "numTweets = 0\n",
    "userTweetcnts = {}\n",
    "\n",
    "tweetFile = open('twitter.jsonl')\n",
    "\n",
    "for line in tweetFile:\n",
    "    numTweets += 1\n",
    "\n",
    "    tweetObj = json.loads(line.strip())\n",
    "\n",
    "    sName = tweetObj['user']['screen_name']\n",
    "    userTweetcnts[sName] = userTweetcnts.get(sName, 0) + 1\n",
    "\n",
    "tweetFile.close()\n",
    "print(numTweets)\n",
    "print(len(userTweetcnts))\n",
    "\n",
    "maxUser = ''\n",
    "maxTweets = 0\n",
    "for k, v in userTweetcnts.items():\n",
    "    # print(k,v)\n",
    "    if v > maxTweets:\n",
    "        maxTweets = v\n",
    "        maxUser = k\n",
    "\n",
    "\n",
    "print(maxUser)"
   ]
  },
  {
   "cell_type": "code",
   "execution_count": null,
   "metadata": {},
   "outputs": [],
   "source": []
  }
 ],
 "metadata": {
  "kernelspec": {
   "display_name": "Python 3",
   "language": "python",
   "name": "python3"
  },
  "language_info": {
   "codemirror_mode": {
    "name": "ipython",
    "version": 3
   },
   "file_extension": ".py",
   "mimetype": "text/x-python",
   "name": "python",
   "nbconvert_exporter": "python",
   "pygments_lexer": "ipython3",
   "version": "3.7.7"
  }
 },
 "nbformat": 4,
 "nbformat_minor": 4
}
