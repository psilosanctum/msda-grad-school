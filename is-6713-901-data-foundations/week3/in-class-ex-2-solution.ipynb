{
 "cells": [
  {
   "cell_type": "markdown",
   "id": "16e37db4-35d6-41c0-9d82-fa40c2c1842c",
   "metadata": {},
   "source": [
    "# In-class Exercises\n"
   ]
  },
  {
   "cell_type": "markdown",
   "id": "a7fd069a-dc30-4089-86cc-d5c32da14fa1",
   "metadata": {},
   "source": [
    "## NOTES"
   ]
  },
  {
   "cell_type": "code",
   "execution_count": 12,
   "id": "8ae7505a-a1b9-4e63-a84a-831a1d70d499",
   "metadata": {},
   "outputs": [
    {
     "name": "stdout",
     "output_type": "stream",
     "text": [
      "LASKDJFLKASJF\n",
      "LASKDJFLKASJF\n"
     ]
    }
   ],
   "source": [
    "# REMINDERS\n",
    "\n",
    "# Numbers (Int and Float) vs. String\n",
    "\n",
    "my_var = '42'\n",
    "\n",
    "# In-place\n",
    "\n",
    "my_string = 'laskdjflkasjf'\n",
    "\n",
    "upp_string = my_string.upper()\n",
    "\n",
    "print(my_string.upper())\n",
    "print(upp_string)"
   ]
  },
  {
   "cell_type": "code",
   "execution_count": 7,
   "id": "74f1d16e-0860-4a50-9f3e-c2862b3e718e",
   "metadata": {},
   "outputs": [
    {
     "data": {
      "text/plain": [
       "'Bang! Bang! Bang! Bang! Bang! Bang! Bang! Bang! Bang! Bang! Bang! Bang! Bang! Bang! Bang! Bang! Bang! Bang! Bang! Bang! Bang! Bang! Bang! Bang! Bang! Bang! Bang! Bang! Bang! Bang! Bang! Bang! Bang! Bang! Bang! Bang! Bang! Bang! Bang! Bang! Bang! Bang! Bang! Bang! Bang! Bang! Bang! Bang! Bang! Bang! Bang! Bang! Bang! Bang! Bang! Bang! Bang! Bang! Bang! Bang! Bang! Bang! Bang! Bang! Bang! Bang! Bang! Bang! Bang! Bang! Bang! Bang! Bang! Bang! Bang! Bang! Bang! Bang! Bang! Bang! Bang! Bang! Bang! Bang! Bang! Bang! Bang! Bang! Bang! Bang! Bang! Bang! Bang! Bang! Bang! Bang! Bang! Bang! Bang! Bang! '"
      ]
     },
     "execution_count": 7,
     "metadata": {},
     "output_type": "execute_result"
    }
   ],
   "source": [
    "'Bang! ' * 100"
   ]
  },
  {
   "cell_type": "code",
   "execution_count": 19,
   "id": "3d95b89b-a807-44ee-9b4f-0439cf7a6e39",
   "metadata": {},
   "outputs": [
    {
     "name": "stdout",
     "output_type": "stream",
     "text": [
      "[1, 2, 3, 'abc']\n",
      "5\n"
     ]
    }
   ],
   "source": [
    "# Lists\n",
    "\n",
    "## Creating Lists\n",
    "\n",
    "my_list = [1,2,3,\"abc\", 1.2432324]\n",
    "\n",
    "## Indexing Lists\n",
    "\n",
    "## Fancy Indexing Lists\n",
    "\n",
    "print(my_list[:-1])\n",
    "\n",
    "\n",
    "\n",
    "## Length of a list\n",
    "\n",
    "len_list = len(my_list)\n",
    "\n",
    "print(len_list)"
   ]
  },
  {
   "cell_type": "code",
   "execution_count": 22,
   "id": "a6e86438-8362-4b18-b7a5-a00051cef555",
   "metadata": {},
   "outputs": [
    {
     "name": "stdout",
     "output_type": "stream",
     "text": [
      "[0, 1, 2, 3, 4, 5, 6, 7, 8, 9]\n",
      "[0, 1, 2, 3, 4]\n",
      "[1, 4, 7]\n"
     ]
    }
   ],
   "source": [
    "# range()\n",
    "\n",
    "## Example 1\n",
    "\n",
    "print(list(range(10)))\n",
    "\n",
    "## Example 2\n",
    "\n",
    "print(list(range(5)))\n",
    "\n",
    "## Example 3\n",
    "\n",
    "my_range = list(range(1,10,3))\n",
    "\n",
    "print(my_range)\n",
    "\n"
   ]
  },
  {
   "cell_type": "code",
   "execution_count": 23,
   "id": "ca0e4cdb-f3f8-4e69-a476-2e6b6e7a9d13",
   "metadata": {},
   "outputs": [
    {
     "name": "stdout",
     "output_type": "stream",
     "text": [
      "6\n"
     ]
    }
   ],
   "source": [
    "# For Loops\n",
    "\n",
    "my_list = [1,2,3]\n",
    "\n",
    "my_sum = 0\n",
    "for item in my_list:\n",
    "    my_sum += item # my_sum = my_sum + item  \n",
    "print(my_sum)"
   ]
  },
  {
   "cell_type": "code",
   "execution_count": null,
   "id": "b5803c8c-7fdc-4df5-a753-956f43ceba39",
   "metadata": {},
   "outputs": [],
   "source": [
    "# Computer Mem.\n",
    "\n",
    "my_list <- [1,2,3]\n",
    "\n",
    "my_sum <- 6\n",
    "\n",
    "item <- 3"
   ]
  },
  {
   "cell_type": "code",
   "execution_count": null,
   "id": "439e80b1-9832-4b71-b3e8-c439603d5382",
   "metadata": {},
   "outputs": [],
   "source": [
    "# Output\n",
    "6"
   ]
  },
  {
   "cell_type": "code",
   "execution_count": 24,
   "id": "2b28099a-7dd8-4e17-a6ef-fc5e2f350a06",
   "metadata": {},
   "outputs": [
    {
     "name": "stdout",
     "output_type": "stream",
     "text": [
      "3\n"
     ]
    }
   ],
   "source": [
    "# While Loops\n",
    "\n",
    "cnt  = 0\n",
    "while cnt < 3: # 3 < 3 -> False\n",
    "    cnt += 1\n",
    "print(cnt)"
   ]
  },
  {
   "cell_type": "code",
   "execution_count": 27,
   "id": "03a96982-6a14-42fa-8f12-6fb2452339e4",
   "metadata": {},
   "outputs": [
    {
     "name": "stdout",
     "output_type": "stream",
     "text": [
      "TEST 0\n",
      "TEST 1\n",
      "TEST 2\n",
      "TEST 3\n",
      "TEST 4\n",
      "TEST 5\n",
      "TEST 6\n",
      "TEST 7\n",
      "TEST 8\n",
      "TEST 9\n",
      "TEST 10\n",
      "11\n"
     ]
    }
   ],
   "source": [
    "cnt = 0\n",
    "while True:\n",
    "    print(\"TEST\",cnt)\n",
    "    cnt += 1\n",
    "    if cnt > 10:\n",
    "        break\n",
    "print(cnt)"
   ]
  },
  {
   "cell_type": "code",
   "execution_count": null,
   "id": "ac045033-f042-41d6-967e-05a93f5e800e",
   "metadata": {},
   "outputs": [],
   "source": [
    "# computer mem.\n",
    "cnt <- 3"
   ]
  },
  {
   "cell_type": "code",
   "execution_count": null,
   "id": "7f6fb675-f33d-4d7e-95ba-14ed13f5047a",
   "metadata": {},
   "outputs": [],
   "source": [
    "# output \n",
    "3"
   ]
  },
  {
   "cell_type": "code",
   "execution_count": 39,
   "id": "6b70dde1-5080-4121-ae61-f80fbaaedcb4",
   "metadata": {},
   "outputs": [
    {
     "ename": "KeyError",
     "evalue": "'key3'",
     "output_type": "error",
     "traceback": [
      "\u001b[0;31m---------------------------------------------------------------------------\u001b[0m",
      "\u001b[0;31mKeyError\u001b[0m                                  Traceback (most recent call last)",
      "\u001b[0;32m/var/folders/62/0gnm2g1d22n5555snz1v7yyc0000gn/T/ipykernel_1247/1650573183.py\u001b[0m in \u001b[0;36m<module>\u001b[0;34m\u001b[0m\n\u001b[1;32m      4\u001b[0m \u001b[0;34m\u001b[0m\u001b[0m\n\u001b[1;32m      5\u001b[0m \u001b[0;34m\u001b[0m\u001b[0m\n\u001b[0;32m----> 6\u001b[0;31m \u001b[0mmy_dictionary\u001b[0m\u001b[0;34m[\u001b[0m\u001b[0;34m\"key3\"\u001b[0m\u001b[0;34m]\u001b[0m\u001b[0;34m\u001b[0m\u001b[0;34m\u001b[0m\u001b[0m\n\u001b[0m",
      "\u001b[0;31mKeyError\u001b[0m: 'key3'"
     ]
    }
   ],
   "source": [
    "# Dictionaries\n",
    "\n",
    "my_dictionary = {\"key1\":32423, \"key2\": \"abc\", 1324: \"value\"}\n",
    "\n",
    "\n",
    "my_dictionary[\"key3\"]"
   ]
  },
  {
   "cell_type": "code",
   "execution_count": 42,
   "id": "4d3eda70-af5d-452a-bb74-5e7ec0817534",
   "metadata": {},
   "outputs": [
    {
     "data": {
      "text/plain": [
       "0"
      ]
     },
     "execution_count": 42,
     "metadata": {},
     "output_type": "execute_result"
    }
   ],
   "source": [
    "my_dictionary.get(\"key3\", 0)"
   ]
  },
  {
   "cell_type": "code",
   "execution_count": 34,
   "id": "e4849540-84af-4ed0-91e8-78955098aa2d",
   "metadata": {},
   "outputs": [
    {
     "name": "stdout",
     "output_type": "stream",
     "text": [
      "key1 32423\n",
      "key2 abc\n",
      "1324 value\n"
     ]
    }
   ],
   "source": [
    "for key, value in my_dictionary.items():\n",
    "    print(key, value)"
   ]
  },
  {
   "cell_type": "code",
   "execution_count": 36,
   "id": "5d002515-d33e-4c66-8579-8981b26d4439",
   "metadata": {},
   "outputs": [
    {
     "data": {
      "text/plain": [
       "True"
      ]
     },
     "execution_count": 36,
     "metadata": {},
     "output_type": "execute_result"
    }
   ],
   "source": [
    "# Is \"key3\" in side the dictionary?\n",
    "\n",
    "\"key2\" in my_dictionary"
   ]
  },
  {
   "cell_type": "code",
   "execution_count": null,
   "id": "59e3084b-4e38-4971-b189-1a07a9ca75f7",
   "metadata": {},
   "outputs": [],
   "source": []
  },
  {
   "cell_type": "markdown",
   "id": "cb98ffa5-8d0d-4eec-be42-41a94a4e6c76",
   "metadata": {},
   "source": [
    "## Basic Instructions\n",
    "\n",
    "Designate someone to be the \"driver\" in your breakout room. They will share their screen and help facilitate discussion as you work through the problems. As a group you will work through one exercise, then we will all come together to discuss before moving to the next exercise.\n",
    "\n",
    "## Exercise 1\n",
    "\n",
    "For this exercise, you should write code that evaluates each equation below. For part 1.1 and 1.2, you should use **for** loops. For part 1.3, you should use a **while** loop.\n",
    "\n",
    "1. y = $\\sum_{i=1}^{10} x$\n",
    "    - HINT: Use range()\n",
    "2. y = $\\frac{1}{|V|} \\sum_{x \\in V} x,\\, \\text{ where }\\, V = \\{5, 10, 15, 20, 25\\}$\n",
    "    - HINT: |V| is equal to the len() of V.\n",
    "    - EXTRA: If you have time, try solving this without using len() (HINT: Keep track of a count)\n",
    "3. y = $(\\prod_{x \\in V} x)^{\\frac{1}{|V|}},\\, \\text{ where }\\, V = \\{5, 10, 15, 20, 25\\}$\n",
    "    - HINT: You will need to index into V, e.g., V[i]\n",
    "    \n",
    "    \n",
    "**TIME**: 15 minutes"
   ]
  },
  {
   "cell_type": "code",
   "execution_count": null,
   "id": "18bda63b-90d3-4e2b-9393-fcef316f8cab",
   "metadata": {},
   "outputs": [],
   "source": []
  },
  {
   "cell_type": "code",
   "execution_count": 46,
   "id": "93a5bd3e-3f34-46f8-861c-0268130e9dff",
   "metadata": {},
   "outputs": [
    {
     "name": "stdout",
     "output_type": "stream",
     "text": [
      "1 0\n",
      "2 1\n",
      "3 3\n",
      "4 6\n",
      "5 10\n",
      "6 15\n",
      "7 21\n",
      "8 28\n",
      "9 36\n",
      "10 45\n",
      "55\n"
     ]
    }
   ],
   "source": [
    "# Part 1.1 Code Here\n",
    "y = 0\n",
    "\n",
    "for i in range(1,11):\n",
    "    print(i, y)\n",
    "    y += i\n",
    "    \n",
    "print(y)"
   ]
  },
  {
   "cell_type": "code",
   "execution_count": 48,
   "id": "72387546-8ac7-4f60-8670-08cd90a0495a",
   "metadata": {},
   "outputs": [
    {
     "name": "stdout",
     "output_type": "stream",
     "text": [
      "15.0\n"
     ]
    }
   ],
   "source": [
    "# Part 1.2 Code Here\n",
    "\n",
    "V = [5, 10, 15, 20, 25]\n",
    "y = 0\n",
    "\n",
    "for x in V:\n",
    "    y += x\n",
    "\n",
    "y = y/len(V)\n",
    "\n",
    "print(y)"
   ]
  },
  {
   "cell_type": "code",
   "execution_count": 49,
   "id": "b502b84b-b23a-4637-a1be-0050f5e80003",
   "metadata": {},
   "outputs": [
    {
     "name": "stdout",
     "output_type": "stream",
     "text": [
      "13.025855423486762\n"
     ]
    }
   ],
   "source": [
    "# Part 1.3 Code Here\n",
    "V = [5, 10, 15, 20, 25]\n",
    "\n",
    "y = 0\n",
    "\n",
    "index = 0\n",
    "while index < len(V):\n",
    "    \n",
    "    if index == 0:\n",
    "        y = V[index]\n",
    "    else:\n",
    "        y *= V[index]\n",
    "        \n",
    "    index += 1\n",
    "print(y ** (1/len(V)))"
   ]
  },
  {
   "cell_type": "code",
   "execution_count": 50,
   "id": "874fe49e-29b0-42a1-acc6-e5358f676462",
   "metadata": {},
   "outputs": [
    {
     "name": "stdout",
     "output_type": "stream",
     "text": [
      "13.025855423486762\n"
     ]
    }
   ],
   "source": [
    "# Part 1.3 Code Here\n",
    "V = [5, 10, 15, 20, 25]\n",
    "\n",
    "y = V[0]\n",
    "\n",
    "index = 1\n",
    "while index < len(V):\n",
    "    \n",
    "    y *= V[index]\n",
    "        \n",
    "    index += 1\n",
    "print(y ** (1/len(V)))"
   ]
  },
  {
   "cell_type": "markdown",
   "id": "4dbde490-40f4-4eb1-b786-d7b7d6e66df3",
   "metadata": {},
   "source": [
    "## Exercise 2\n",
    "\n",
    "For this exercise we are going use a dictionary to track how often a word appears within a sentence. The counts should be stored in the variable word_count. You should experiment with two options:\n",
    "\n",
    "1. Use the text as-is before splitting into words, e.g., \"This is a Test\" would become [\"This\", \"is\", \"a\", \"Test\"]\n",
    "2. lowercase the text before splitting the text into words, e.g., \"This is a Test\" would become [\"this\", \"is\", \"a\", \"test\"]\n",
    "\n",
    "**TIME**: 10 Minutes"
   ]
  },
  {
   "cell_type": "code",
   "execution_count": 52,
   "id": "601f2980-cb26-47f5-aa84-d6489f905ca1",
   "metadata": {},
   "outputs": [
    {
     "name": "stdout",
     "output_type": "stream",
     "text": [
      "{'Python': 1, 'is': 3, 'the': 2, 'best': 1, 'programming': 1, 'language': 1, 'and': 1, 'Data': 1, 'Foundations': 1, 'BEST': 1, 'class': 1, 'at': 1, 'UTSA.': 1, 'It': 1, 'AWESOME': 1}\n",
      "{'python': 1, 'is': 3, 'the': 2, 'best': 2, 'programming': 1, 'language': 1, 'and': 1, 'data': 1, 'foundations': 1, 'class': 1, 'at': 1, 'utsa.': 1, 'it': 1, 'awesome': 1}\n"
     ]
    }
   ],
   "source": [
    "# Counting Words Code Here\n",
    "\n",
    "#positive_words = {\"best\", \"great\", \"awesome\"}\n",
    "\n",
    "text = \"Python is the best programming language and Data Foundations is the BEST class at UTSA. It is AWESOME\"\n",
    "\n",
    "word_count = {} \n",
    "\n",
    "# Step 1: Break string into list of words. HINT: .split()\n",
    "# Step 2: Loop over list of words storing a count in word_count\n",
    "# Step 3: Print word_count\n",
    "\n",
    "for word in text.split(\" \"):\n",
    "    word_count[word] = word_count.get(word, 0) + 1\n",
    "    \n",
    "    \n",
    "print(word_count)\n",
    "\n",
    "# Repeat above, but after lowercasing text\n",
    "\n",
    "word_count = {} \n",
    "text_ver_2 = text.lower()\n",
    "\n",
    "for word in text_ver_2.split(\" \"):\n",
    "    word_count[word] = word_count.get(word, 0) + 1\n",
    "    \n",
    "print(word_count)"
   ]
  },
  {
   "cell_type": "code",
   "execution_count": 55,
   "id": "fc90dc45-044b-4081-97c0-d75673ce9169",
   "metadata": {},
   "outputs": [
    {
     "name": "stdout",
     "output_type": "stream",
     "text": [
      "1\n",
      "3\n"
     ]
    }
   ],
   "source": [
    "positive_words = {\"best\", \"great\", \"awesome\"}\n",
    "\n",
    "text = \"Python is the best programming language and Data Foundations is the BEST class at UTSA. It is AWESOME\"\n",
    "\n",
    "word_count = {} \n",
    "\n",
    "# Step 1: Break string into list of words. HINT: .split()\n",
    "# Step 2: Loop over list of words storing a count in word_count\n",
    "# Step 3: Print word_count\n",
    "\n",
    "pos_cnt = 0\n",
    "for word in text.split(\" \"):\n",
    "    if word in positive_words:\n",
    "        pos_cnt += 1\n",
    "    \n",
    "print(pos_cnt)\n",
    "\n",
    "# Repeat above, but after lowercasing text\n",
    "\n",
    "word_count = {} \n",
    "text_ver_2 = text.lower()\n",
    "\n",
    "pos_cnt = 0\n",
    "for word in text_ver_2.split(\" \"):\n",
    "    if word in positive_words:\n",
    "        pos_cnt += 1\n",
    "print(pos_cnt)\n",
    "    \n",
    "#print(word_count)"
   ]
  },
  {
   "cell_type": "markdown",
   "id": "8b88d4c7-2544-4a20-a1a7-55ed7b2eff17",
   "metadata": {},
   "source": [
    "# Exercise 3\n",
    "\n",
    "For this exericise, we will implement the equation for linear regression using a dictionary.\n",
    "\n",
    "$ y = \\beta_0 + \\beta_1 * x_1 + \\beta_2 * x_2 + \\beta_3 * x_3 $\n",
    "\n",
    "It is okay to hardcode this, i.e., to index the dictionaries manually.\n",
    "\n",
    "**EXTRA**: If you have time, try to solve this problem without hardcoding it via the use of a for loop. HINT: Loop over keys in \"coefs\" incrementally creating y.\n",
    "\n",
    "**TIME**: 10 Minutes"
   ]
  },
  {
   "cell_type": "code",
   "execution_count": 74,
   "id": "2b1f4935-27ee-4b16-84e1-06d1c029acc0",
   "metadata": {},
   "outputs": [
    {
     "name": "stdout",
     "output_type": "stream",
     "text": [
      "-2.62\n"
     ]
    }
   ],
   "source": [
    "# Write code here\n",
    "coefs = {\"B1\": 7.5, \"B0\": 1,  \"B2\": 3.21, \"B3\": -1.7} # B = beta, i.e., B1 = beta 1\n",
    "\n",
    "x = {\"x1\": -3, \"x2\": 8, \"x3\": 4}\n",
    "\n",
    "y = coefs[\"B0\"] + coefs[\"B1\"] * x['x1'] + coefs[\"B2\"] * x['x2'] + coefs[\"B3\"] * x['x3']\n",
    "\n",
    "print(y)"
   ]
  },
  {
   "cell_type": "code",
   "execution_count": 77,
   "id": "44ea2bd6-3909-4abd-b3ea-e9ffa7f59a2f",
   "metadata": {},
   "outputs": [
    {
     "name": "stdout",
     "output_type": "stream",
     "text": [
      "1,7.5 * -3\n",
      "2,3.21 * 8\n",
      "3,-1.7 * 4\n",
      "-2.62\n"
     ]
    }
   ],
   "source": [
    "y = coefs['B0']\n",
    "\n",
    "for i in range(1, 4):\n",
    "    print(f\"{i},{coefs['B'+str(i)]} * {x['x'+str(i)]}\")\n",
    "    y += coefs['B'+str(i)] * x['x'+str(i)]\n",
    "    \n",
    "print(y)"
   ]
  },
  {
   "cell_type": "code",
   "execution_count": 71,
   "id": "e6748729-87d7-4097-9609-3a18e243e569",
   "metadata": {},
   "outputs": [
    {
     "name": "stdout",
     "output_type": "stream",
     "text": [
      "B1\n",
      "\n",
      "x1\n",
      "\n",
      "B2\n",
      "\n",
      "x2\n",
      "\n",
      "B3\n",
      "\n",
      "x3\n",
      "\n"
     ]
    }
   ],
   "source": [
    "for i in range(1, 4):\n",
    "    print(\"B\"+str(i))\n",
    "    print()\n",
    "    print(\"x\"+str(i))\n",
    "    print()"
   ]
  },
  {
   "cell_type": "code",
   "execution_count": 58,
   "id": "81c0c0df-c0df-4fc0-901e-7133a86d32d1",
   "metadata": {},
   "outputs": [
    {
     "name": "stdout",
     "output_type": "stream",
     "text": [
      "ab\n"
     ]
    }
   ],
   "source": [
    "str1 = 'a'\n",
    "str2 = 'b'\n",
    "str3 = str1 + str2\n",
    "print(str3)"
   ]
  },
  {
   "cell_type": "markdown",
   "id": "6e125904-bfcc-4234-b567-269e65e0a83c",
   "metadata": {},
   "source": [
    "## Exercise 4 (If we have time; I will share solution if we don't finish in class)\n",
    "\n",
    "Write code that loops over the email-phone-number pairs counting the occurance of each in the nested dictionary email_phone_counts.\n",
    "\n",
    "**Time**: 10 Minutes"
   ]
  },
  {
   "cell_type": "code",
   "execution_count": 65,
   "id": "6838b1c7-00a5-4d75-a85f-1007823db975",
   "metadata": {},
   "outputs": [],
   "source": [
    "email_phone_counts = {\"emails\": {}, \"phoneNum\": {}}\n",
    "\n",
    "data = [['abc@utsa.edu', '555-5555'], ['abc@utsa.edu', '555-5555'], ['abc@utsa.edu', '555-5556'], ['anthony.rios@utsa.edu', '123-4567']]\n",
    "\n",
    "# Loop over each sublist in data using a for loop\n",
    "#     count email and phone number occurances in subdictionary email_phone_counts\n",
    "\n",
    "for x in data:\n",
    "    email_phone_counts['emails'][x[0]] = email_phone_counts['emails'].get(x[0], 0) + 1\n",
    "    email_phone_counts['phoneNum'][x[1]] = email_phone_counts['phoneNum'].get(x[1], 0) + 1"
   ]
  },
  {
   "cell_type": "code",
   "execution_count": 66,
   "id": "141e8042-d70a-4f4a-b367-0f78947d38d5",
   "metadata": {},
   "outputs": [
    {
     "name": "stdout",
     "output_type": "stream",
     "text": [
      "{'emails': {'abc@utsa.edu': 3, 'anthony.rios@utsa.edu': 1}, 'phoneNum': {'555-5555': 2, '555-5556': 1, '123-4567': 1}}\n"
     ]
    }
   ],
   "source": [
    "print(email_phone_counts)"
   ]
  },
  {
   "cell_type": "code",
   "execution_count": 68,
   "id": "0b384739-b49a-471b-90d9-7e583bffe338",
   "metadata": {},
   "outputs": [
    {
     "data": {
      "text/plain": [
       "3"
      ]
     },
     "execution_count": 68,
     "metadata": {},
     "output_type": "execute_result"
    }
   ],
   "source": [
    "email_phone_counts['emails']['abc@utsa.edu']"
   ]
  },
  {
   "cell_type": "code",
   "execution_count": null,
   "id": "b2fd6648-6ee3-4b72-b38b-c00086c01ee2",
   "metadata": {},
   "outputs": [],
   "source": []
  }
 ],
 "metadata": {
  "kernelspec": {
   "display_name": "Python 3 (ipykernel)",
   "language": "python",
   "name": "python3"
  },
  "language_info": {
   "codemirror_mode": {
    "name": "ipython",
    "version": 3
   },
   "file_extension": ".py",
   "mimetype": "text/x-python",
   "name": "python",
   "nbconvert_exporter": "python",
   "pygments_lexer": "ipython3",
   "version": "3.8.12"
  }
 },
 "nbformat": 4,
 "nbformat_minor": 5
}
