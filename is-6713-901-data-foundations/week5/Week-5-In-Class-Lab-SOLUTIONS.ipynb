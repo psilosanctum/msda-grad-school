{
 "cells": [
  {
   "cell_type": "markdown",
   "id": "e5e69cd8-c93d-4c09-b18b-1d81e5c6d3ab",
   "metadata": {
    "tags": []
   },
   "source": [
    "# NOTES"
   ]
  },
  {
   "cell_type": "code",
   "execution_count": 22,
   "id": "565afcff-bf54-4f45-a898-d527a5864fe8",
   "metadata": {},
   "outputs": [],
   "source": [
    "# General Questions\n",
    "\n",
    "# Function Definition\n",
    "\n",
    "def myFunc(func_param):\n",
    "    # Do stuff\n",
    "    print(func_param)\n",
    "    for c in func_param:\n",
    "        print(c)\n",
    "\n",
    "    return True"
   ]
  },
  {
   "cell_type": "code",
   "execution_count": 27,
   "id": "4912736d-da82-435c-9631-22c646d77fb0",
   "metadata": {},
   "outputs": [
    {
     "name": "stdout",
     "output_type": "stream",
     "text": [
      "ALAKJ\n",
      "A\n",
      "L\n",
      "A\n",
      "K\n",
      "J\n"
     ]
    },
    {
     "ename": "AssertionError",
     "evalue": "",
     "output_type": "error",
     "traceback": [
      "\u001b[0;31m---------------------------------------------------------------------------\u001b[0m",
      "\u001b[0;31mAssertionError\u001b[0m                            Traceback (most recent call last)",
      "Cell \u001b[0;32mIn[27], line 3\u001b[0m\n\u001b[1;32m      1\u001b[0m \u001b[38;5;66;03m# Function calls\u001b[39;00m\n\u001b[0;32m----> 3\u001b[0m \u001b[38;5;28;01massert\u001b[39;00m(myFunc(\u001b[38;5;124m\"\u001b[39m\u001b[38;5;124mALAKJ\u001b[39m\u001b[38;5;124m\"\u001b[39m) \u001b[38;5;241m!=\u001b[39m \u001b[38;5;28;01mTrue\u001b[39;00m)\n\u001b[1;32m      5\u001b[0m \u001b[38;5;241m1\u001b[39m \u001b[38;5;241m+\u001b[39m \u001b[38;5;241m1\u001b[39m\n\u001b[1;32m      7\u001b[0m \u001b[38;5;28mprint\u001b[39m(ret_val)\n",
      "\u001b[0;31mAssertionError\u001b[0m: "
     ]
    }
   ],
   "source": [
    "# Function calls\n",
    "\n",
    "assert(myFunc(\"ALAKJ\") != True)\n",
    "\n",
    "1 + 1\n",
    "\n",
    "print(ret_val)"
   ]
  },
  {
   "cell_type": "code",
   "execution_count": 32,
   "id": "f5366f50-1dc0-4eeb-b1f7-b23b9d18d4d2",
   "metadata": {},
   "outputs": [
    {
     "name": "stdout",
     "output_type": "stream",
     "text": [
      "BLAH\n",
      "BLAH\n",
      "BLAH\n",
      "BLAH\n",
      "BLAH\n",
      "BLAH\n",
      "BLAH\n",
      "BLAH\n",
      "BLAH\n",
      "BLAH\n",
      "BLAH\n",
      "BLAH\n",
      "BLAH\n",
      "BLAH\n",
      "BLAH\n",
      "BLAH\n"
     ]
    }
   ],
   "source": [
    "myList = [1,2,3,4]\n",
    "\n",
    "myList2 = [2,3,4,5]\n",
    "\n",
    "for i in myList: \n",
    "    for j in myList2: \n",
    "        \n",
    "        a = 1\n",
    "        print(\"BLAH\")"
   ]
  },
  {
   "cell_type": "code",
   "execution_count": 35,
   "id": "8a8a623c-a420-4664-af43-374900e4cf65",
   "metadata": {},
   "outputs": [
    {
     "name": "stdout",
     "output_type": "stream",
     "text": [
      "<_io.TextIOWrapper name='example-csv.csv' mode='r' encoding='UTF-8'>\n",
      "Name,Grade,Hometown\n",
      "John,A,\"San Antonio, TX\"\n",
      "Jane,A,\"Houston, TX\"\n",
      "Anthony,C,\"Lexington, KY\"\n"
     ]
    }
   ],
   "source": [
    "myF = open('example-csv.csv')\n",
    "\n",
    "print(myF)\n",
    "\n",
    "# USER -> File Hanldle -> File -> File Handle -> User\n",
    "\n",
    "entireFile = myF.read()\n",
    "print(entireFile)\n",
    "\n",
    "myF.close()"
   ]
  },
  {
   "cell_type": "code",
   "execution_count": 38,
   "id": "b8756081-e29f-49fe-842c-c898eeed320a",
   "metadata": {},
   "outputs": [
    {
     "name": "stdout",
     "output_type": "stream",
     "text": [
      "Ant 4\n",
      "John 12\n",
      "Jane 22\n"
     ]
    }
   ],
   "source": [
    "data = {\"Ant\": 4, \"John\": 12, \"Jane\": 22}\n",
    "\n",
    "for k,v in data.items():\n",
    "    print(k,v)"
   ]
  },
  {
   "cell_type": "code",
   "execution_count": null,
   "id": "853aaf01-4676-4bf7-bb2e-404c6e9381e1",
   "metadata": {},
   "outputs": [],
   "source": [
    "File = open('file.txt', 'w')\n",
    "print(File)\n",
    "\n",
    "<_io.TextIOWrapper name='file.txt' mode='w' encoding='cp1252'>\n",
    "\n",
    "I do not understand this. Why does it not print the file text."
   ]
  },
  {
   "cell_type": "code",
   "execution_count": 50,
   "id": "736f51a7-0754-4fc2-ad7a-324ac15fa2cc",
   "metadata": {},
   "outputs": [
    {
     "name": "stdout",
     "output_type": "stream",
     "text": [
      "['Name', 'Grade', 'Hometown']\n",
      "['John', 'A', 'San Antonio, TX']\n",
      "['Jane', 'A', 'Houston, TX']\n",
      "['Anthony', 'C', 'Lexington, KY']\n"
     ]
    }
   ],
   "source": [
    "# CSV Files\n",
    "\n",
    "import csv\n",
    "\n",
    "### Opening\n",
    "\n",
    "myFile = open('example-csv.csv')\n",
    "\n",
    "#all_data = myFile.read()\n",
    "\n",
    "iCSV = csv.reader(myFile, delimiter=',')\n",
    "\n",
    "for row in iCSV:\n",
    "    print(row)\n",
    "\n",
    "\n",
    "myFile.close()\n",
    "\n",
    "### Creating"
   ]
  },
  {
   "cell_type": "code",
   "execution_count": 41,
   "id": "e4c85be0-326b-40d4-932d-77d683b91514",
   "metadata": {},
   "outputs": [],
   "source": [
    "data = [['blah', 1], ['blah2', 2]]\n",
    "\n",
    "myFile = open('output_file.csv', 'w')\n",
    "\n",
    "oCSV = csv.writer(myFile, delimiter='\\t')\n",
    "\n",
    "for item in data:\n",
    "    oCSV.writerow(item)\n",
    "\n",
    "myFile.close()"
   ]
  },
  {
   "cell_type": "code",
   "execution_count": 47,
   "id": "e5c26547-d04b-4309-9cb4-90803905b1f3",
   "metadata": {},
   "outputs": [
    {
     "name": "stdout",
     "output_type": "stream",
     "text": [
      "<class 'str'>\n",
      "[\n",
      "John\n"
     ]
    }
   ],
   "source": [
    "# JSON Files\n",
    "\n",
    "import json\n",
    "    \n",
    "## Opening\n",
    "\n",
    "myFile = open('example-json.json')\n",
    "\n",
    "myData = myFile.read()\n",
    "\n",
    "print(type(myData))\n",
    "print(myData[0])\n",
    "\n",
    "data = json.loads(myData)\n",
    "\n",
    "print(data[0]['name'])\n",
    "\n",
    "myFile.close()\n",
    "\n",
    "## Creating\n",
    "\n",
    "## JSON Lines"
   ]
  },
  {
   "cell_type": "code",
   "execution_count": 55,
   "id": "1b98e27b-e5a9-4807-93e5-2c31acb0a0ff",
   "metadata": {},
   "outputs": [],
   "source": [
    "data = [1,2,3]\n",
    "\n",
    "out_file = open('blah2.json', 'w')\n",
    "\n",
    "json.dump(data, out_file)\n",
    "\n",
    "out_file.close()\n",
    "\n"
   ]
  },
  {
   "cell_type": "code",
   "execution_count": 54,
   "id": "5193fc24-f76a-4411-b5d7-d0f4ca2bcdc4",
   "metadata": {},
   "outputs": [
    {
     "name": "stdout",
     "output_type": "stream",
     "text": [
      "<class 'str'>\n"
     ]
    }
   ],
   "source": [
    "data = [1,2,3]\n",
    "\n",
    "json_string = json.dumps(data)\n",
    "\n",
    "print(type(json_string))\n",
    "\n",
    "oFile = open('blah.json', 'w')\n",
    "\n",
    "oFile.write(json_string)\n",
    "\n",
    "oFile.close()"
   ]
  },
  {
   "cell_type": "code",
   "execution_count": 48,
   "id": "e6b3f155-40f9-4c39-8c7f-2a809b2ecc2c",
   "metadata": {},
   "outputs": [
    {
     "name": "stdout",
     "output_type": "stream",
     "text": [
      "<class 'list'>\n"
     ]
    }
   ],
   "source": [
    "myFile = open('example-json.json')\n",
    "\n",
    "data = json.load(myFile)\n",
    "print(type(data))\n",
    "\n",
    "myFile.close()"
   ]
  },
  {
   "cell_type": "code",
   "execution_count": null,
   "id": "447359cd-ac5a-4912-8f50-5099cafd51a4",
   "metadata": {},
   "outputs": [],
   "source": [
    "# XML Files\n",
    "\n",
    "## Opening and Reading XML Files\n",
    "\n",
    "\n",
    "\n",
    "\n",
    "## Creating XML Files\n",
    "### https://www.geeksforgeeks.org/create-xml-documents-using-python/"
   ]
  },
  {
   "cell_type": "markdown",
   "id": "33baa48f-31b0-43e8-81fd-c50e8138f330",
   "metadata": {},
   "source": [
    "# Exercise 1a\n",
    "\n",
    "Convert the following data into a csv file. \n",
    "\n",
    "```\n",
    "User ID: 1\n",
    "Screen Name: PythonIsTheBest\n",
    "Real Name: John Doe\n",
    "Address: 1 UTSA Circle, San Antonio, TX 78249\n",
    "Bio: Pythons, i.e., snakes, are my favorite animals\n",
    "Occupation: Snake Farmer\n",
    "Hobbies:\n",
    "    1. Bicycling\n",
    "\n",
    "User ID: 2\n",
    "Screen Name: RisTheBest\n",
    "Real Name: Jane Doe\n",
    "Address: 1 UTSA Circle, San Antonio, TX 78249\n",
    "Bio: R is my favorite letter.\n",
    "Hobbies:\n",
    "    1. Weightlifting\n",
    "    2. Cycling\n",
    "    3. Reading\n",
    "```\n",
    "\n",
    "\n",
    "**NOTE:** You can just open up any editor (e.g., Notepad or the Jupyter Lab text editor to create the file."
   ]
  },
  {
   "cell_type": "code",
   "execution_count": 59,
   "id": "344142af-38de-47cd-a3e0-66ea01ef2ff0",
   "metadata": {},
   "outputs": [
    {
     "name": "stdout",
     "output_type": "stream",
     "text": [
      "blah\n",
      "blah2\n",
      "blah3\n"
     ]
    }
   ],
   "source": [
    "data_json = {\"hobbies\": [\"blah\", \"blah2\", \"blah3\"]}\n",
    "\n",
    "for h in data_json['hobbies']:\n",
    "    print(h)"
   ]
  },
  {
   "cell_type": "markdown",
   "id": "c4341720-0243-4f4f-8b14-f2b00d3ef01c",
   "metadata": {},
   "source": [
    "# Exercise 1b\n",
    "\n",
    "Using the csv file created in Exercise 1, write code read and print every line of the file (use the csv Python package)"
   ]
  },
  {
   "cell_type": "code",
   "execution_count": 2,
   "id": "fb7ef413-4acc-458f-9e58-9eb7e6b949bc",
   "metadata": {},
   "outputs": [
    {
     "name": "stdout",
     "output_type": "stream",
     "text": [
      "['Name', 'Grade', 'Hometown']\n",
      "['John', 'A', 'San Antonio, TX']\n",
      "['Jane', 'A', 'Houston, TX']\n",
      "['Anthony', 'C', 'Lexington, KY']\n"
     ]
    }
   ],
   "source": [
    "import csv\n",
    "\n",
    "iFile = open('example-csv.csv')\n",
    "iCSV = csv.reader(iFile, delimiter=',')\n",
    "\n",
    "for row in iCSV:\n",
    "    print(row)\n",
    "\n",
    "iFile.close()"
   ]
  },
  {
   "cell_type": "markdown",
   "id": "cbfa4c23-fa49-4a74-9d55-ecfc60836b4b",
   "metadata": {},
   "source": [
    "# Exercise 2a\n",
    "\n",
    "Repeate Exericse 1a, however, for this exercise you will create a json file, not a csv file. Again, you can use any editor of your choice.\n",
    "\n",
    "Look at basic JSON syntax here: https://www.w3schools.com/js/js_json_datatypes.asp"
   ]
  },
  {
   "cell_type": "code",
   "execution_count": null,
   "id": "d15adf96-46be-4c43-86aa-eb4ccced29f7",
   "metadata": {},
   "outputs": [],
   "source": [
    "# NO CODE NEEDED HERE\n"
   ]
  },
  {
   "cell_type": "markdown",
   "id": "0d68236c-70e7-4f8d-b102-164309a2f8f5",
   "metadata": {},
   "source": [
    "# Exercise 2b\n",
    "\n",
    "Repeat Exercise 1b, however, for this exercise you will read the json file you created and print each of the elements."
   ]
  },
  {
   "cell_type": "code",
   "execution_count": 3,
   "id": "074c6ec5-c606-4a96-85b6-4dc97b15aba7",
   "metadata": {},
   "outputs": [
    {
     "name": "stdout",
     "output_type": "stream",
     "text": [
      "[{'name': 'John', 'Grade': 'A', 'Hometown': 'San Antonio, TX'}, {'name': 'Jane', 'Grade': 'A', 'Hometown': 'Houston, TX'}, {'name': 'Anthony', 'Grade': 'C', 'Hometown': 'Lexington, KY'}]\n"
     ]
    }
   ],
   "source": [
    "import json\n",
    "# WRITE CODE HERE\n",
    "\n",
    "# Reminders\n",
    "#   json.reads(stringHere) <- reads a json file from a string\n",
    "#   json.dumps(list_or_dict_here) <- converts a dictionary or list to a json string\n",
    "#   json.read(file_handle_here) <- reads a json file from a file handle\n",
    "#   json.dump(list_or_dict_here, file_handle_here) <- converts a dictionary or list to a json string\n",
    "\n",
    "myFile =open('example-json.json')\n",
    "\n",
    "data = json.load(myFile)\n",
    "\n",
    "print(data)\n",
    "\n",
    "myFile.close()"
   ]
  },
  {
   "cell_type": "markdown",
   "id": "3a5e06a1-a163-4df7-bab8-999c2bb3de12",
   "metadata": {},
   "source": [
    "# Exercise 3a\n",
    "\n",
    "Again, repeate the previous 1a/2a exercise, but this time create an XML file that represents the data. You can use any text editor of your choice."
   ]
  },
  {
   "cell_type": "code",
   "execution_count": null,
   "id": "6f18d787-16aa-403d-9ccf-c5bf6aa564a9",
   "metadata": {},
   "outputs": [],
   "source": [
    "# NO CODE NEEDED HERE"
   ]
  },
  {
   "cell_type": "markdown",
   "id": "df6bb24b-b9dc-46fd-bb29-5da324fc475b",
   "metadata": {},
   "source": [
    "# Exercise 3b\n",
    "\n",
    "Now read the XML file you created!\n",
    "\n",
    "**HINT:** References are your friend. Nobody remembers all the XML commands :)."
   ]
  },
  {
   "cell_type": "code",
   "execution_count": 22,
   "id": "2728f64b-f73b-42c8-a884-ff2251b6eac1",
   "metadata": {},
   "outputs": [
    {
     "name": "stdout",
     "output_type": "stream",
     "text": [
      "John\n",
      "Jane\n",
      "Anthony\n"
     ]
    }
   ],
   "source": [
    "import xml.etree.ElementTree as ET\n",
    "\n",
    "\n",
    "\n",
    "tree = ET.parse('example-xml.xml')\n",
    "\n",
    "root = tree.getroot()\n",
    "\n",
    "nodes = root.findall('./Student')\n",
    "\n",
    "for s in nodes:\n",
    "    print(s.find('Name').text)\n",
    "\n",
    "\n",
    "# Reminders:\n",
    "# data = ET.fromstring(data) <- reads XML data as a string and converts to etree object\n",
    "# text_of_node = tree.find(\"nodeName\").text  <- Gets text in a node, e.g., <nodeHere>TEXT</nodeHere>\n",
    "# nodes = tree.findall(\"nodeNames\") <- returns a list/iterator of all nodes of type \"nodeNames\"\n",
    "# attribute = node.get(\"attributeName\") <- returns the value of a node's attribute called attributeName"
   ]
  },
  {
   "cell_type": "code",
   "execution_count": null,
   "id": "0c9d93bc-e6cd-4b0e-af95-7db2be11bcee",
   "metadata": {},
   "outputs": [],
   "source": []
  }
 ],
 "metadata": {
  "kernelspec": {
   "display_name": "Python 3 (ipykernel)",
   "language": "python",
   "name": "python3"
  },
  "language_info": {
   "codemirror_mode": {
    "name": "ipython",
    "version": 3
   },
   "file_extension": ".py",
   "mimetype": "text/x-python",
   "name": "python",
   "nbconvert_exporter": "python",
   "pygments_lexer": "ipython3",
   "version": "3.8.12"
  }
 },
 "nbformat": 4,
 "nbformat_minor": 5
}
