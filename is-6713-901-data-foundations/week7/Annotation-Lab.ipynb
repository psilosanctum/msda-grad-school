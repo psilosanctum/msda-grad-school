{
 "cells": [
  {
   "cell_type": "markdown",
   "metadata": {},
   "source": [
    "Collin Real (yhi267)\n",
    "\n",
    "# Python: Annotation\n",
    "\n",
    "Blank notebook to be used for class exercises."
   ]
  },
  {
   "cell_type": "markdown",
   "metadata": {},
   "source": [
    "## Exercise 1\n",
    "\n",
    "Complete the Sentiment Annotation Survey on Blackboard. \n"
   ]
  },
  {
   "cell_type": "markdown",
   "metadata": {},
   "source": [
    "## Exercise 2\n",
    "\n",
    "Judge the annotations in following Data:\n",
    "\n",
    "sentiment.txt\n",
    "\n",
    "You are the judge. Look over the annotations and come up with the following:\n",
    "- What is your judgment for the correct entity + sentiment annotation?\n",
    "- How would you amend the annotation guidelines to solicit more consistent annotations?\n",
    "\n",
    "While judging the annotations, keep track of them below:\n",
    "\n",
    "1. Target: ISIS, Sentiment: Negative\n",
    "2. Target: U.S. Senate, Sentiment: Unknown\n",
    "3. Targets: Camp David/Military, Sentiment: Positive\n",
    "4. Target: Sean Spicer, Sentiment: Positive\n",
    "5. Target: The West, Sentiment: Positive\n",
    "6. Target: Fake News Media, Sentiment: Negative\n",
    "7. Target: Cincinnati/Ohio, Sentiment: Positive; Target: ObamaCare, Sentiment: Negative\n",
    "8. Target: Ivanka, Sentiment: Positive\n",
    "9. Target: ISIS, Sentiment: Negative\n",
    "10. Target: Emmanuel Macron, Sentiment: Positive\n",
    "11. Target: VA State Police, Sentiment: Positive\n",
    "12. Target: USS Fitzgerald, Sentiment: Positive\n",
    "13. Target: Putin, Sentiment: Negative\n",
    "14. Target: President Trump, Sentiment: Positive\n",
    "15. Target: Congress, Sentiment: Unknown; Target: Jon Ossoff, Sentiment: Negative\n",
    "16. Target: United States Department of Veterans Affairs, Sentiment: Unknown\n",
    "17. Target: All Secretaries, Sentiment: Unknown\n",
    "18. Target: USA, Sentiment: Positive\n",
    "19. Target: Pharmaceutical companies, Sentiment: Positive\n",
    "20. Target: NABTU, Sentiment: Positive\n",
    "\n",
    "How many of your judgements match the majority view?\n",
    "ALL seemed reasonable"
   ]
  },
  {
   "cell_type": "markdown",
   "metadata": {},
   "source": [
    "## Exercise 3\n",
    "\n",
    "Manually calculate Cohen's kappa for the tables in the slides and put your answers below:\n",
    "\n",
    "Answers here"
   ]
  },
  {
   "cell_type": "code",
   "execution_count": 1,
   "metadata": {},
   "outputs": [
    {
     "name": "stdout",
     "output_type": "stream",
     "text": [
      "0.0\n"
     ]
    }
   ],
   "source": [
    "# WRITE CODE HERE\n",
    "# Same final outcome for all 3 tables \n",
    "po = 50/100\n",
    "p_a_puppy = 50/100\n",
    "p_a_chicken = 50/100\n",
    "p_b_puppy = 50/100\n",
    "p_b_chicken = 50/100\n",
    "\n",
    "pe = (p_a_puppy*p_b_puppy) + (p_a_chicken*p_b_chicken)\n",
    "kappa = (po - pe)/(1-pe)\n",
    "print(kappa)\n"
   ]
  },
  {
   "cell_type": "markdown",
   "metadata": {},
   "source": [
    "## Exercise 4\n",
    "\n",
    "Write code to calculate and print the cohen's kappa between rater1 and rater2.\n",
    "\n",
    "Hint: You will need to create the confusion matrix (matrix of how many times each rater agrees for each item)"
   ]
  },
  {
   "cell_type": "code",
   "execution_count": 2,
   "metadata": {},
   "outputs": [
    {
     "name": "stdout",
     "output_type": "stream",
     "text": [
      "['yes', 'no', 'yes', 'yes', 'yes', 'yes', 'no', 'yes', 'yes']\n"
     ]
    }
   ],
   "source": [
    "rater1 = ['yes','no','yes','yes','yes','yes','no','yes','yes']\n",
    "rater2 = ['yes','no','no','yes','yes','yes','yes','yes','yes']\n",
    "print(rater1)"
   ]
  },
  {
   "cell_type": "code",
   "execution_count": 5,
   "metadata": {},
   "outputs": [
    {
     "name": "stdout",
     "output_type": "stream",
     "text": [
      "yes\n",
      "no\n",
      "yes\n",
      "yes\n",
      "yes\n",
      "yes\n",
      "no\n",
      "yes\n",
      "yes\n",
      "{'r1_yes_r2_yes': 6, 'r1_no_r2_no': 1, 'r1_yes_r2_no': 1, 'r1_no_r2_yes': 1}\n"
     ]
    }
   ],
   "source": [
    "# WRITE CODE HERE\n",
    "counts = {}\n",
    "for r1, r2 in zip(rater1, rater2):\n",
    "    counts['r1_'+r1+'_r2_'+r2] = counts.get('r1_'+r1+'_r2_'+r2, 0) + 1\n",
    "print(counts)"
   ]
  },
  {
   "cell_type": "code",
   "execution_count": 30,
   "metadata": {},
   "outputs": [
    {
     "ename": "AttributeError",
     "evalue": "'NoneType' object has no attribute 'span'",
     "output_type": "error",
     "traceback": [
      "\u001b[0;31m---------------------------------------------------------------------------\u001b[0m",
      "\u001b[0;31mAttributeError\u001b[0m                            Traceback (most recent call last)",
      "\u001b[0;32m/var/folders/s3/h2qfnwzs63b1k1xft79tdnfw0000gn/T/ipykernel_94936/1875079693.py\u001b[0m in \u001b[0;36m<module>\u001b[0;34m\u001b[0m\n\u001b[1;32m      2\u001b[0m \u001b[0mtxt\u001b[0m \u001b[0;34m=\u001b[0m \u001b[0;34m\"zzzz\"\u001b[0m\u001b[0;34m\u001b[0m\u001b[0;34m\u001b[0m\u001b[0m\n\u001b[1;32m      3\u001b[0m \u001b[0mx\u001b[0m \u001b[0;34m=\u001b[0m \u001b[0mre\u001b[0m\u001b[0;34m.\u001b[0m\u001b[0msearch\u001b[0m\u001b[0;34m(\u001b[0m\u001b[0;34m\"aa*bb*|b+|(bb|aa)* \"\u001b[0m\u001b[0;34m,\u001b[0m \u001b[0mtxt\u001b[0m\u001b[0;34m)\u001b[0m\u001b[0;34m\u001b[0m\u001b[0;34m\u001b[0m\u001b[0m\n\u001b[0;32m----> 4\u001b[0;31m \u001b[0mprint\u001b[0m\u001b[0;34m(\u001b[0m\u001b[0mx\u001b[0m\u001b[0;34m.\u001b[0m\u001b[0mspan\u001b[0m\u001b[0;34m(\u001b[0m\u001b[0;34m)\u001b[0m\u001b[0;34m)\u001b[0m\u001b[0;34m\u001b[0m\u001b[0;34m\u001b[0m\u001b[0m\n\u001b[0m",
      "\u001b[0;31mAttributeError\u001b[0m: 'NoneType' object has no attribute 'span'"
     ]
    }
   ],
   "source": [
    "import re\n",
    "txt = \"aaaa\"\n",
    "x = re.search(\"aa*bb*|b+|(bb|aa)* \", txt)\n",
    "print(x.span())"
   ]
  },
  {
   "cell_type": "code",
   "execution_count": 35,
   "metadata": {},
   "outputs": [
    {
     "name": "stdout",
     "output_type": "stream",
     "text": [
      "(0, 1)\n"
     ]
    }
   ],
   "source": [
    "txt = \"b1\"\n",
    "y = re.search(\"[a-z0-9]\", txt)\n",
    "print(y.span())"
   ]
  },
  {
   "cell_type": "code",
   "execution_count": null,
   "metadata": {},
   "outputs": [],
   "source": []
  }
 ],
 "metadata": {
  "kernelspec": {
   "display_name": "Python 3",
   "language": "python",
   "name": "python3"
  },
  "language_info": {
   "codemirror_mode": {
    "name": "ipython",
    "version": 3
   },
   "file_extension": ".py",
   "mimetype": "text/x-python",
   "name": "python",
   "nbconvert_exporter": "python",
   "pygments_lexer": "ipython3",
   "version": "3.11.5"
  }
 },
 "nbformat": 4,
 "nbformat_minor": 4
}
