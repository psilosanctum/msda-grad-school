{
 "cells": [
  {
   "cell_type": "code",
   "execution_count": null,
   "id": "34abc875-65ab-442e-84a2-b2c7a4b372c0",
   "metadata": {},
   "outputs": [],
   "source": [
    "# QUESTIONS?\n",
    "\n",
    "# Regular Expressions\n",
    "\n",
    "## Basic Patterns\n",
    "\n",
    "### []\n",
    "\n",
    "### ^$\n",
    "\n",
    "### * +\n",
    "\n",
    "### | (regex \"or\")\n",
    "\n",
    "### groups\n",
    "\n",
    "## Advanced Patterns\n",
    "\n",
    "### Unmatched Groups (?: ) (e.g., URLs)\n",
    "\n",
    "### Look Ahead (?=foo) (e.g., passwords)\n",
    "\n",
    "# search, findall, sub"
   ]
  },
  {
   "cell_type": "code",
   "execution_count": null,
   "id": "8185f9e1-116e-4495-851d-b908c6f4c266",
   "metadata": {},
   "outputs": [],
   "source": [
    "# Example: Passwords"
   ]
  },
  {
   "cell_type": "markdown",
   "id": "84bc674e-a566-4424-af2b-d5956154f7d7",
   "metadata": {},
   "source": [
    "# Exercise 1\n",
    "Write regular expressions for the following languages.\n",
    "1. the set of all alphabetic strings;\n",
    "2. the set of all lower case alphabetic strings ending in a b;\n",
    "3. the set of all strings from the alphabet a,b such that each a is immediately preceded by and immediately followed by a b;\n",
    "\n",
    "**TIME: 10 minutes**"
   ]
  },
  {
   "cell_type": "markdown",
   "id": "ac7cff81-e733-4d02-98fa-d6c5eeb723d1",
   "metadata": {},
   "source": []
  },
  {
   "cell_type": "markdown",
   "id": "58fe0ca7-b9e6-4e71-8c6b-aad4e23b68f3",
   "metadata": {},
   "source": [
    "# Exercise 2\n",
    "\n",
    "ELIZA is an early natural language processing computer program created from 1964 to 1966 at the MIT Artificial Intelligence Laboratory by Joseph Weizenbaum. Created to demonstrate the superficiality of communication between man and machine, Eliza simulated conversation by using a 'pattern matching' and substitution methodology that gave users an illusion of understanding on the part of the program, but had no built in framework for contextualizing events. Perhaps the most well known variation was called DOCTOR. This was made to respond like a Rogerian psychotherapist. In this instance, the therapist \"reflects\" on questions by turning the questions back at the patient.\n",
    "\n",
    "1. [eliza] Hi, I'm a psychotherapist. What is your name?\n",
    "2. [user] **My name is** Anthony.\n",
    "3. [eliza] Hi Anthony. How can I help you today?\n",
    "4. [user] **I want** to rule the world.\n",
    "5. [eliza] Anthony, why do you want to rule the world? [transform statement into ?]\n",
    "6. [user] I don't know, I think I **crave** power.\n",
    "7. [eliza] Why don't you tell me more about your cravings? [word spot \"crave\" and respond.]\n",
    "\n",
    "Look at the conversation above. Your job is to add two regular expressions that can generate statements 5 and 7. Finally, come up with at least one other expression. Add an extra expressions that can either modify the input from the user (e.g., like \"I want\" above) while keeping some of the original response intact, or an expression that completely changes it (e.g., \"crave\" example above).\n",
    "\n",
    "**HINT:** You will need a re.sub() command that has a regex that looks for \"I want\" and one that looks for \"crave\"\n",
    "\n",
    "**EXTRA:** If you finish early, play with the code! Add extra expressions that both modify the input from the user (e.g., like \"I want\" above) and expressions that completely changes it (e.g., \"crave\" example above). Likewise, what happens if you try to change the bot from being a psychiatrist to an expert on dad jokes, e.g., \"[user] My name is Anthony\" -> \"[eliza] Hi Anthony, I'm Dad. What else should i know about you?\"\n",
    "\n",
    "**TIME: 20+ minutes**"
   ]
  },
  {
   "cell_type": "code",
   "execution_count": null,
   "id": "cda5adf7-c3c9-4053-a278-872bd33e64f3",
   "metadata": {},
   "outputs": [],
   "source": [
    "import re\n",
    "\n",
    "def process_text_name(text):\n",
    "    text_0 = text\n",
    "    text = re.sub(r\"(My name is )*([A-Za-z]+)\",\n",
    "                  r\"Hi \\2. How can I help you today?\",\n",
    "                  text_0, flags=re.IGNORECASE)\n",
    "    \n",
    "    name = re.search(r\"My name is ([A-Za-z]+)\", text_0)\n",
    "    return name, text\n",
    "\n",
    "def process_text(text, name):\n",
    "    text_0 = text\n",
    "    ############################################################\n",
    "    # WRITE CODE IN THIS BLOCK\n",
    "    \n",
    "    text = re.sub(r\".*i'm (depressed|sad).*\",\n",
    "                  r\"I am sorry to hear you are \\1. Why do you think you are \\1?\",\n",
    "                  text, flags=re.IGNORECASE)\n",
    "    text = re.sub(r\".*i am (depressed|sad).*\",\n",
    "                  r\"Why do you think you are \\1?\",\n",
    "                  text, flags=re.IGNORECASE)\n",
    "    text = re.sub(r\".*all.*\",\n",
    "                  r\"In what way?\",\n",
    "                  text, flags=re.IGNORECASE)\n",
    "    text = re.sub(r\".* always .*\",\n",
    "                  r\"Can you think of a specific example?\",\n",
    "                  text, flags=re.IGNORECASE)\n",
    "    \n",
    "    # END CODE BLOCK\n",
    "    ############################################################\n",
    "    if text == text_0:\n",
    "        text = 'Can you restate that in a different way?'\n",
    "    return text"
   ]
  },
  {
   "cell_type": "code",
   "execution_count": null,
   "id": "6cbef45e-fea0-4b5d-940b-9458f6176f2c",
   "metadata": {},
   "outputs": [],
   "source": [
    "user_input = input(\"[ELIZA]: Hi, I'm a psychotherapist. What is your name?\\n\\n\")\n",
    "\n",
    "name, output = process_text_name(user_input)\n",
    "\n",
    "user_input = input(\"\\n[ELIZA]: \" + output+\"\\n\\n\")\n",
    "while user_input.lower() != 'end':\n",
    "    output = process_text(user_input, name)\n",
    "    user_input = input(\"\\n[ELIZA]: \" + output+\"\\n\\n\")"
   ]
  },
  {
   "cell_type": "code",
   "execution_count": null,
   "id": "8cf05791-b121-4df3-b25b-83e61a7160b5",
   "metadata": {},
   "outputs": [],
   "source": []
  }
 ],
 "metadata": {
  "kernelspec": {
   "display_name": "Python 3 (ipykernel)",
   "language": "python",
   "name": "python3"
  },
  "language_info": {
   "codemirror_mode": {
    "name": "ipython",
    "version": 3
   },
   "file_extension": ".py",
   "mimetype": "text/x-python",
   "name": "python",
   "nbconvert_exporter": "python",
   "pygments_lexer": "ipython3",
   "version": "3.8.12"
  }
 },
 "nbformat": 4,
 "nbformat_minor": 5
}
