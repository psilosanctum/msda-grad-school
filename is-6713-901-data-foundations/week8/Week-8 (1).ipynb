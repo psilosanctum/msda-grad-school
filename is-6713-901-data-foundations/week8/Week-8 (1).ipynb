{
 "cells": [
  {
   "cell_type": "markdown",
   "metadata": {},
   "source": [
    "# Python: More Data Annotation and Numpy\n",
    "\n",
    "Name: Collin Real\n",
    "\n",
    "abc123: yhi267\n",
    "\n",
    "Blank notebook to be used for class exercises."
   ]
  },
  {
   "cell_type": "markdown",
   "metadata": {},
   "source": [
    "## Exercise 1\n",
    "\n",
    "Given the provided numpy array, write code that prints the following:\n",
    "    \n",
    "- Print the third row of the array\n",
    "- Print the second column of the array\n",
    "- Print the fourth row's third column (this should print a single number)."
   ]
  },
  {
   "cell_type": "code",
   "execution_count": 2,
   "metadata": {},
   "outputs": [],
   "source": [
    "import numpy as np\n",
    "\n",
    "grades = [[79, 95, 60],\n",
    "          [95, 60, 61],\n",
    "          [99, 67, 84],\n",
    "          [76, 76, 97],\n",
    "          [91, 84, 98],\n",
    "          [70, 69, 96],\n",
    "          [88, 65, 76],\n",
    "          [67, 73, 80],\n",
    "          [82, 89, 61],\n",
    "          [94, 67, 88]] # \"grades\" is a list of lists.\n",
    "\n",
    "grades = np.array(grades) # Converts \"grades\" into a numpy array"
   ]
  },
  {
   "cell_type": "code",
   "execution_count": 3,
   "metadata": {},
   "outputs": [
    {
     "name": "stdout",
     "output_type": "stream",
     "text": [
      "[79 95]\n",
      "[95 60]\n",
      "[99 67]\n",
      "84.1 74.5 80.1\n"
     ]
    }
   ],
   "source": [
    "# Write Code Here\n",
    "for g in grades[:3]:\n",
    "    print(g[:2])\n",
    "    \n",
    "m0_sum = 0\n",
    "m1_sum = 0\n",
    "f_sum = 0\n",
    "for g in grades:\n",
    "    m0_sum += g[0]\n",
    "    m1_sum += g[1]\n",
    "    f_sum += g[2]\n",
    "    \n",
    "ns = len(grades)\n",
    "\n",
    "print(m0_sum/ns, m1_sum/ns, f_sum/ns)"
   ]
  },
  {
   "cell_type": "code",
   "execution_count": 4,
   "metadata": {},
   "outputs": [
    {
     "name": "stdout",
     "output_type": "stream",
     "text": [
      "[99 67 84]\n",
      "[95 60 67 76 84 69 65 73 89 67]\n",
      "97\n"
     ]
    }
   ],
   "source": [
    "print(grades[2,])\n",
    "\n",
    "print(grades[:, 1])\n",
    "\n",
    "print(grades[3,2])"
   ]
  },
  {
   "cell_type": "markdown",
   "metadata": {},
   "source": [
    "## Exercise 2\n",
    "\n",
    "Given the provided array in the Lab file, write code the prints the following:\n",
    "\n",
    "- The average grade per test (column) (this should print an array with 3 items)\n",
    "- The average grade per row, i.e., the average test grade per student\n",
    "- Print the max grade per test\n",
    "- Print the average across all students (rows) and tests (columns)"
   ]
  },
  {
   "cell_type": "code",
   "execution_count": 5,
   "metadata": {},
   "outputs": [],
   "source": [
    "import numpy as np\n",
    "\n",
    "grades = [[79, 95, 60],\n",
    "          [95, 60, 61],\n",
    "          [99, 67, 84],\n",
    "          [76, 76, 97],\n",
    "          [91, 84, 98],\n",
    "          [70, 69, 96],\n",
    "          [88, 65, 76],\n",
    "          [67, 73, 80],\n",
    "          [82, 89, 61],\n",
    "          [94, 67, 88]] # \"grades\" is a list of lists.\n",
    "\n",
    "grades = np.array(grades) # Converts \"grades\" into a numpy array"
   ]
  },
  {
   "cell_type": "code",
   "execution_count": 6,
   "metadata": {},
   "outputs": [
    {
     "name": "stdout",
     "output_type": "stream",
     "text": [
      "[84.1 74.5 80.1]\n",
      "[78.         72.         83.33333333 83.         91.         78.33333333\n",
      " 76.33333333 73.33333333 77.33333333 83.        ]\n",
      "[99 95 98]\n",
      "79.56666666666666\n"
     ]
    }
   ],
   "source": [
    "# Write Code Here\n",
    "print(grades.mean(axis=0))\n",
    "\n",
    "print(grades.mean(axis=1))\n",
    "\n",
    "print(grades.max(axis=0))\n",
    "\n",
    "print(grades.mean())"
   ]
  },
  {
   "cell_type": "markdown",
   "metadata": {},
   "source": [
    "## Exercise 3\n",
    "\n",
    "Write code that prints the grades of all students that have an average grade less than 90."
   ]
  },
  {
   "cell_type": "code",
   "execution_count": 7,
   "metadata": {},
   "outputs": [],
   "source": [
    "import numpy as np\n",
    "\n",
    "grades = [[79, 95, 60],\n",
    "          [95, 60, 61],\n",
    "          [99, 67, 84],\n",
    "          [76, 76, 97],\n",
    "          [91, 84, 98],\n",
    "          [70, 69, 96],\n",
    "          [88, 65, 76],\n",
    "          [67, 73, 80],\n",
    "          [82, 89, 61],\n",
    "          [94, 67, 88]] # \"grades\" is a list of lists.\n",
    "\n",
    "grades = np.array(grades) # Converts \"grades\" into a numpy array"
   ]
  },
  {
   "cell_type": "code",
   "execution_count": 8,
   "metadata": {},
   "outputs": [
    {
     "name": "stdout",
     "output_type": "stream",
     "text": [
      "[78.         72.         83.33333333 83.         91.         78.33333333\n",
      " 76.33333333 73.33333333 77.33333333 83.        ]\n",
      "[ True  True  True  True False  True  True  True  True  True]\n",
      "[[79 95 60]\n",
      " [95 60 61]\n",
      " [99 67 84]\n",
      " [76 76 97]\n",
      " [70 69 96]\n",
      " [88 65 76]\n",
      " [67 73 80]\n",
      " [82 89 61]\n",
      " [94 67 88]]\n"
     ]
    }
   ],
   "source": [
    "# Write Code Here\n",
    "avg = grades.mean(axis=1)\n",
    "print(avg)\n",
    "\n",
    "bool_index = avg < 90\n",
    "\n",
    "print(bool_index)\n",
    "\n",
    "print(grades[bool_index,:])"
   ]
  },
  {
   "cell_type": "markdown",
   "metadata": {},
   "source": [
    "## Exercise 4\n",
    "\n",
    "Write code to adds 10 points every student's test grade **if** their average test grade is greater than 90."
   ]
  },
  {
   "cell_type": "code",
   "execution_count": 9,
   "metadata": {},
   "outputs": [],
   "source": [
    "import numpy as np\n",
    "\n",
    "grades = [[79, 95, 60],\n",
    "          [95, 60, 61],\n",
    "          [99, 67, 84],\n",
    "          [76, 76, 97],\n",
    "          [91, 84, 98],\n",
    "          [70, 69, 96],\n",
    "          [88, 65, 76],\n",
    "          [67, 73, 80],\n",
    "          [82, 89, 61],\n",
    "          [94, 67, 88]] # \"grades\" is a list of lists.\n",
    "\n",
    "grades = np.array(grades) # Converts \"grades\" into a numpy array"
   ]
  },
  {
   "cell_type": "code",
   "execution_count": 10,
   "metadata": {},
   "outputs": [
    {
     "name": "stdout",
     "output_type": "stream",
     "text": [
      "[False False False False  True False False False False False]\n"
     ]
    },
    {
     "data": {
      "text/plain": [
       "array([[ 79,  95,  60],\n",
       "       [ 95,  60,  61],\n",
       "       [ 99,  67,  84],\n",
       "       [ 76,  76,  97],\n",
       "       [101,  94, 108],\n",
       "       [ 70,  69,  96],\n",
       "       [ 88,  65,  76],\n",
       "       [ 67,  73,  80],\n",
       "       [ 82,  89,  61],\n",
       "       [ 94,  67,  88]])"
      ]
     },
     "execution_count": 10,
     "metadata": {},
     "output_type": "execute_result"
    }
   ],
   "source": [
    "# Write Code Here\n",
    "new_grades = grades.copy()\n",
    "\n",
    "index_bool = grades.mean(axis=1)> 90\n",
    "\n",
    "print(index_bool)\n",
    "\n",
    "new_grades [index_bool] +=10\n",
    "\n",
    "new_grades"
   ]
  },
  {
   "cell_type": "markdown",
   "metadata": {},
   "source": [
    "## Exercise 5\n",
    "\n",
    "Write a function that takes two 1-dimensional arrays as input and returns the euclidean distance between the two arrays.\n",
    "\n",
    "Euclidean distance is defined as\n",
    "\n",
    "$EDist = \\sqrt{(x_0 - v_0)^2 + (x_1 - v_1)^2 + \\dots + (x_{D-1} - v_{D-1})^2}$\n",
    "\n",
    "The square root of a number in numpy can be calculated as np.sqrt(x), where x is a number or array.\n",
    "\n",
    "Try to complete this exercise with for loops and with vector notation."
   ]
  },
  {
   "cell_type": "code",
   "execution_count": 11,
   "metadata": {},
   "outputs": [
    {
     "name": "stdout",
     "output_type": "stream",
     "text": [
      "8.0 8.0\n"
     ]
    }
   ],
   "source": [
    "# Write Code Here\n",
    "def edist1(x,y):\n",
    "    score = 0 \n",
    "    for i, j in zip(x,y):\n",
    "        score += (i-j)**2\n",
    "        \n",
    "    return score ** 0.5\n",
    "    \n",
    "def edist2(x,y):\n",
    "    return np.sqrt(((x-y)**2).sum())\n",
    "        \n",
    "x = np.array([1,2,3,4])\n",
    "\n",
    "y = np.array([5,6,7,8])\n",
    "\n",
    "print(edist1(x,y),edist2(x,y))"
   ]
  },
  {
   "cell_type": "markdown",
   "metadata": {},
   "source": [
    "## Exercise 6\n",
    "\n",
    "Write code to load the data in the \"iris.csv\" into numpy arrays.\n",
    "\n",
    "The frst 4 columns are the features/attributes. The last column is the\n",
    "class. Simply load the class as a list of strings. Don't forget to convert the\n",
    "dataset into a numpy array. You can use either DictVectorizer or the CSV\n",
    "method on the previous slide to load the features."
   ]
  },
  {
   "cell_type": "code",
   "execution_count": 13,
   "metadata": {},
   "outputs": [
    {
     "name": "stdout",
     "output_type": "stream",
     "text": [
      "5.1,3.5,1.4,0.2,Iris-setosa\n",
      "4.9,3.0,1.4,0.2,Iris-setosa\n",
      "4.7,3.2,1.3,0.2,Iris-setosa\n",
      "4.6,3.1,1.5,0.2,Iris-setosa\n",
      "5.0,3.6,1.4,0.2,Iris-setosa\n",
      "5.4,3.9,1.7,0.4,Iris-setosa\n",
      "4.6,3.4,1.4,0.3,Iris-setosa\n",
      "5.0,3.4,1.5,0.2,Iris-setosa\n",
      "4.4,2.9,1.4,0.2,Iris-setosa\n",
      "4.9,3.1,1.5,0.1,Iris-setosa\n"
     ]
    }
   ],
   "source": [
    "with open('iris (1).csv') as in_file:\n",
    "    count = 0\n",
    "    for row in in_file:\n",
    "        print(row.strip())\n",
    "        count += 1\n",
    "        if count == 10:\n",
    "            break"
   ]
  },
  {
   "cell_type": "code",
   "execution_count": 15,
   "metadata": {},
   "outputs": [
    {
     "name": "stdout",
     "output_type": "stream",
     "text": [
      "(150, 4)\n",
      "(150,)\n"
     ]
    }
   ],
   "source": [
    "# Write code here\n",
    "# Write code here\n",
    "import numpy as np\n",
    "import csv\n",
    "\n",
    "X = []\n",
    "y = []\n",
    "\n",
    "my_file = open('iris (1).csv')\n",
    "\n",
    "iCSV = csv.reader(my_file, delimiter=',')\n",
    "\n",
    "for row in iCSV:\n",
    "    X.append([float(x) for x in row[:-1]])\n",
    "    y.append(row[-1])\n",
    "\n",
    "my_file.close()\n",
    "\n",
    "X = np.array(X)\n",
    "y = np.array(y)\n",
    "\n",
    "print(X.shape)\n",
    "print(y.shape)"
   ]
  },
  {
   "cell_type": "code",
   "execution_count": 20,
   "metadata": {},
   "outputs": [
    {
     "name": "stdout",
     "output_type": "stream",
     "text": [
      "(150, 4)\n",
      "(150,)\n"
     ]
    },
    {
     "data": {
      "text/plain": [
       "['col_1', 'col_2', 'col_3', 'col_4']"
      ]
     },
     "execution_count": 20,
     "metadata": {},
     "output_type": "execute_result"
    }
   ],
   "source": [
    "from sklearn.feature_extraction import DictVectorizer\n",
    "\n",
    "X_list_dict = []\n",
    "y = []\n",
    "\n",
    "my_file = open('iris (1).csv')\n",
    "\n",
    "iCSV = csv.reader(my_file, delimiter=',')\n",
    "\n",
    "for row in iCSV:\n",
    "    features = {'col_1': float(row[0]),\n",
    "                'col_2': float(row[1]),\n",
    "                'col_3': float(row[2]),\n",
    "                'col_4': float(row[3])}\n",
    "    X_list_dict.append(features)\n",
    "    y.append(row[-1])\n",
    "\n",
    "my_file.close()\n",
    "\n",
    "vec = DictVectorizer(sparse=False)\n",
    "\n",
    "X = vec.fit_transform(X_list_dict)\n",
    "y = np.array(y)\n",
    "\n",
    "print(X.shape)\n",
    "print(y.shape)\n",
    "\n",
    "vec.feature_names_"
   ]
  },
  {
   "cell_type": "code",
   "execution_count": null,
   "metadata": {},
   "outputs": [],
   "source": []
  }
 ],
 "metadata": {
  "kernelspec": {
   "display_name": "Python 3",
   "language": "python",
   "name": "python3"
  },
  "language_info": {
   "codemirror_mode": {
    "name": "ipython",
    "version": 3
   },
   "file_extension": ".py",
   "mimetype": "text/x-python",
   "name": "python",
   "nbconvert_exporter": "python",
   "pygments_lexer": "ipython3",
   "version": "3.7.7"
  }
 },
 "nbformat": 4,
 "nbformat_minor": 4
}
