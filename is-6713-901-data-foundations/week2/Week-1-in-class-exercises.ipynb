{
 "cells": [
  {
   "cell_type": "markdown",
   "id": "bd0bea9b-560f-48ba-9c4f-9584054674a8",
   "metadata": {},
   "source": [
    "# NOTES"
   ]
  },
  {
   "cell_type": "code",
   "execution_count": null,
   "id": "69d58944-ec57-4b1c-8618-c4b263087c16",
   "metadata": {},
   "outputs": [],
   "source": [
    "# Data types\n",
    "\n",
    "## Integers\n",
    "\n",
    "## Floats"
   ]
  },
  {
   "cell_type": "markdown",
   "id": "007cf6cb-6261-486d-9cb1-52dc824c887c",
   "metadata": {},
   "source": [
    "|Operator|Operation|Example|Evaluates to...|\n",
    "|--------|--------|--------|--------|\n",
    "| ** | Exponent | 2 ** 3 | 8 |\n",
    "| % | Modulus/remainder | 22%8 | 6 |\n",
    "| // | Integer division/floored quotient | 2|\n",
    "| / | Division | 22/8 | 2.75 |\n",
    "| * | Multiplication | 3 * 5 | 15 |\n",
    "| - | Subtraction | 5-2 | 3 |\n",
    "| + | Addition | 2 + 2 | 4 |"
   ]
  },
  {
   "cell_type": "code",
   "execution_count": null,
   "id": "65190798-4b36-4568-b91c-51c1e3139f95",
   "metadata": {},
   "outputs": [],
   "source": [
    "# Order of operations\n"
   ]
  },
  {
   "cell_type": "code",
   "execution_count": null,
   "id": "9effb04a-a0f9-4db3-941f-b3c48e0da0e3",
   "metadata": {},
   "outputs": [],
   "source": [
    "# Print Statements"
   ]
  },
  {
   "cell_type": "code",
   "execution_count": null,
   "id": "60043e24-e946-49d7-a89c-eb0891c823a1",
   "metadata": {},
   "outputs": [],
   "source": [
    "# Boolean expressions"
   ]
  },
  {
   "cell_type": "code",
   "execution_count": null,
   "id": "e82adb3f-7eb3-4611-8751-530490cb33be",
   "metadata": {},
   "outputs": [],
   "source": [
    "# If Statements"
   ]
  },
  {
   "cell_type": "code",
   "execution_count": null,
   "id": "74b8514c-0514-4012-a604-b0812c3e77c1",
   "metadata": {},
   "outputs": [],
   "source": [
    "# Strings\n",
    "\n",
    "# Splitting a string\n",
    "\n",
    "# Substrings\n",
    "\n",
    "# Check if alpha\n",
    "\n",
    "# Check if numeric\n",
    "\n",
    "# Check if upper/lower\n",
    "\n",
    "# Convert to uppler/lower"
   ]
  },
  {
   "cell_type": "code",
   "execution_count": 1,
   "id": "cec6b1c1-8f70-49e6-8b1a-05a2c1802bc1",
   "metadata": {},
   "outputs": [],
   "source": [
    "# Block Diagrams (On the white board)"
   ]
  },
  {
   "cell_type": "markdown",
   "id": "af66533c-08ff-41cd-b70e-c584e87bc9cf",
   "metadata": {},
   "source": [
    "# In Class Exercises\n",
    "\n",
    "We will work through a few more examples in class today which will be helpful for the homework and better understanding the concepts.\n",
    "\n",
    "Work in groups for the following exercises (2-4 people). Someone should be the designated \"driver\" by downloading the in-class lab assignment, sharing their screen, and help facilitating discussion among everyone on the team to solve the problem. You can choose who is the driver in your group among yourself. Also, we will work through one problem, then we will come back together and discuss before moving on to the next one."
   ]
  },
  {
   "cell_type": "markdown",
   "id": "2d1067e0-2d63-459f-b3aa-d4293ef08d7f",
   "metadata": {},
   "source": [
    "## Exercise 1 (10 minutes)\n",
    "\n",
    "Download the in-class lab notebook on Canvas. You can find it in the Week 2 folder.\n",
    "\n",
    "Write code to calculate and print the following formulas\n",
    "\n",
    "1. $y = x + 1$\n",
    "2. $y = 3x + 2x + x + 1$\n",
    "3. $y = 6x^2+3x+2$\n",
    "4. $y = \\frac{1}{2} x^3$"
   ]
  },
  {
   "cell_type": "code",
   "execution_count": null,
   "id": "18a0566f-ff75-4f08-86e5-7306b39d2df6",
   "metadata": {},
   "outputs": [],
   "source": [
    "x = 2 # You can try different x values.\n",
    "\n",
    "# Write code here"
   ]
  },
  {
   "cell_type": "markdown",
   "id": "f783f65a-61fb-4816-a3e7-c23d0efd0573",
   "metadata": {},
   "source": [
    "## Exercise 2 (10 minutes)\n",
    "\n",
    "For now, we are using Python as a glorified calculator. The code runs sequentially, line by line. To think programatically means to think step-by-step. Below, I give a list of Python statements/expressions. rently, the code DOES NOT run! It returns an errors because the order of the statements are jumbled. Reorganize the statements such that it does not error and you get the following output:\n",
    "\n",
    "```\n",
    "Welcome to Data Foundations!\n",
    "(step 1) x = 1\n",
    "(step 2) x = 7\n",
    "(step 3) x = 823543\n",
    "Done\n",
    "```\n",
    "\n",
    "**NOTE**: You do not need to write any new code. You just need to reorganize the statements. There are multiple correct ways to organize the code. The only goal is to match the output above."
   ]
  },
  {
   "cell_type": "code",
   "execution_count": null,
   "id": "604cf5b8-8898-40f6-8107-1ec3a8711bec",
   "metadata": {},
   "outputs": [],
   "source": [
    "print(f\"Welcome to {name}!\")\n",
    "print(\"Done\")\n",
    "x = 0\n",
    "print(f\"(step 2) x = {x}\")\n",
    "x = x ** x\n",
    "x += 6\n",
    "x += 1\n",
    "print(f\"(step 3) x = {x}\")\n",
    "name = \"Data Foundations\"\n",
    "print(f\"(step 1) x = {x}\")"
   ]
  },
  {
   "cell_type": "markdown",
   "id": "2e6de8bb-dde0-4185-a108-842989a50b84",
   "metadata": {},
   "source": [
    "## Exercise 3 (10 minutes)\n",
    "\n",
    "Write code that will print \"U...T...S...A\" if the variable \"number\" is **greater** than 50 **and** even (e.g., 52). If the variable \"number\" is **less** than 50 **and** odd (e.g., 31), then print \"UTSA\". If the variable is something else, then print \"San Anotnio\".\n",
    "\n",
    "Tip: You can change the value currently assigned to the variable number to check your code."
   ]
  },
  {
   "cell_type": "code",
   "execution_count": null,
   "id": "e81819ac-55ff-4047-98c8-1d4fd163d460",
   "metadata": {},
   "outputs": [],
   "source": [
    "number = 32\n",
    "# Write code here"
   ]
  },
  {
   "cell_type": "markdown",
   "id": "fa957892-d5c1-496f-9bf4-824597e7930f",
   "metadata": {},
   "source": [
    "## Exercise 4 (15 minutes)\n",
    "\n",
    "Write code that prints \"That is an email!\" if the text in the variable \"email\" is formatted as a valid email, otherwise print \"Not an email!\"\n",
    "\n",
    "To simplify the task, we will only consider an email address valid if it matches the following rules:\n",
    "1. Everything before @ sign must be all alphabetic characters (i.e., numbers, special characters, and periods are not allowed)\n",
    "2. The domain address (e.g., \"gmail\" in \"gmail.com\") must be all alphabetic (i.e., a-z capital or lowercase) characters.\n",
    "3. The email must end with \".com\", \".net\", \".org\", or \".edu\"\n",
    "\n",
    "Tip: Start small, e.g., check there is an @ sign, then slowly add to your boolean expressions. Also, you can change the string currently assigned to the variable email to check your code."
   ]
  },
  {
   "cell_type": "code",
   "execution_count": null,
   "id": "17e5f6e5-7207-4f8c-be16-4bf8049a4134",
   "metadata": {},
   "outputs": [],
   "source": [
    "email = \"AnthonyRios@abc.com\"\n",
    "# Write code here"
   ]
  },
  {
   "cell_type": "code",
   "execution_count": null,
   "id": "33d83da8-dcb3-4e2f-b9d0-88a32967239d",
   "metadata": {},
   "outputs": [],
   "source": []
  }
 ],
 "metadata": {
  "kernelspec": {
   "display_name": "Python 3 (ipykernel)",
   "language": "python",
   "name": "python3"
  },
  "language_info": {
   "codemirror_mode": {
    "name": "ipython",
    "version": 3
   },
   "file_extension": ".py",
   "mimetype": "text/x-python",
   "name": "python",
   "nbconvert_exporter": "python",
   "pygments_lexer": "ipython3",
   "version": "3.8.12"
  }
 },
 "nbformat": 4,
 "nbformat_minor": 5
}
