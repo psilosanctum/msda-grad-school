{
 "cells": [
  {
   "cell_type": "markdown",
   "id": "bd0bea9b-560f-48ba-9c4f-9584054674a8",
   "metadata": {},
   "source": [
    "# NOTES"
   ]
  },
  {
   "cell_type": "code",
   "execution_count": 9,
   "id": "b2687078-8624-4db7-97a5-d251bd6d553c",
   "metadata": {},
   "outputs": [
    {
     "name": "stdout",
     "output_type": "stream",
     "text": [
      "Help on built-in function print in module builtins:\n",
      "\n",
      "print(...)\n",
      "    print(value, ..., sep=' ', end='\\n', file=sys.stdout, flush=False)\n",
      "    \n",
      "    Prints the values to a stream, or to sys.stdout by default.\n",
      "    Optional keyword arguments:\n",
      "    file:  a file-like object (stream); defaults to the current sys.stdout.\n",
      "    sep:   string inserted between values, default a space.\n",
      "    end:   string appended after the last value, default a newline.\n",
      "    flush: whether to forcibly flush the stream.\n",
      "\n"
     ]
    }
   ],
   "source": [
    "help(print)"
   ]
  },
  {
   "cell_type": "code",
   "execution_count": 19,
   "id": "69d58944-ec57-4b1c-8618-c4b263087c16",
   "metadata": {},
   "outputs": [
    {
     "name": "stdout",
     "output_type": "stream",
     "text": [
      "<class 'int'>\n",
      "0\n",
      "0.3333333333333333\n"
     ]
    }
   ],
   "source": [
    "# Data types\n",
    "\n",
    "## Integers\n",
    "\n",
    "a = int(1 / 3)\n",
    "\n",
    "print(type(a))\n",
    "print(a)\n",
    "\n",
    "## Floats\n",
    "\n",
    "a = 1 / 3.0\n",
    "\n",
    "print(a)"
   ]
  },
  {
   "cell_type": "code",
   "execution_count": 26,
   "id": "9effb04a-a0f9-4db3-941f-b3c48e0da0e3",
   "metadata": {},
   "outputs": [
    {
     "name": "stdout",
     "output_type": "stream",
     "text": [
      "This is a sequence of numbers 3.12345679, 3.1235\n"
     ]
    }
   ],
   "source": [
    "# Print Statements\n",
    "\n",
    "a = 3\n",
    "\n",
    "print(\"This is a sequence of numbers {}, {:.4f}\".format(3.12345679, 3.12345679))"
   ]
  },
  {
   "cell_type": "code",
   "execution_count": 27,
   "id": "ce5b3057-08a4-4cd7-986d-c432557fdcef",
   "metadata": {},
   "outputs": [
    {
     "name": "stdout",
     "output_type": "stream",
     "text": [
      "This is a sequence of numbers 3.12, 3.12345\n"
     ]
    }
   ],
   "source": [
    "a = 3.12345679\n",
    "print(f\"This is a sequence of numbers {a:.2f}, {3.12345}\")"
   ]
  },
  {
   "cell_type": "code",
   "execution_count": 37,
   "id": "60043e24-e946-49d7-a89c-eb0891c823a1",
   "metadata": {},
   "outputs": [
    {
     "data": {
      "text/plain": [
       "False"
      ]
     },
     "execution_count": 37,
     "metadata": {},
     "output_type": "execute_result"
    }
   ],
   "source": [
    "# Boolean expressions\n",
    "\n",
    "\n",
    "a = 3\n",
    "b = 3\n",
    "\n",
    "a > b and 4 < (1 + 6)"
   ]
  },
  {
   "cell_type": "code",
   "execution_count": 2,
   "id": "e82adb3f-7eb3-4611-8751-530490cb33be",
   "metadata": {},
   "outputs": [],
   "source": [
    "# If Statements\n",
    "\n"
   ]
  },
  {
   "cell_type": "code",
   "execution_count": 55,
   "id": "74b8514c-0514-4012-a604-b0812c3e77c1",
   "metadata": {},
   "outputs": [
    {
     "name": "stdout",
     "output_type": "stream",
     "text": [
      "utsa.edu\n",
      "BC@\n",
      "True\n",
      "False\n",
      "ABC@utsa.edu\n",
      "abc@utsa.edu\n",
      "abc@utsa.edu\n"
     ]
    }
   ],
   "source": [
    "# Strings\n",
    "\n",
    "# Splitting a string\n",
    "\n",
    "my_string = \"ABC@utsa.edu\"\n",
    "\n",
    "print(my_string.split(\"@\")[1])\n",
    "\n",
    "\n",
    "# Substrings\n",
    "\n",
    "print(my_string[1:4])\n",
    "\n",
    "# Check if alpha\n",
    "\n",
    "print(my_string[0:3].isalpha())\n",
    "\n",
    "# Check if numeric\n",
    "\n",
    "print(my_string.isnumeric())\n",
    "\n",
    "# Check if upper/lower\n",
    "\n",
    "print(my_string)\n",
    "print(my_string.lower())\n",
    "my_string = my_string.lower()\n",
    "print(my_string)\n",
    "\n",
    "# Convert to uppler/lower"
   ]
  },
  {
   "cell_type": "code",
   "execution_count": 60,
   "id": "8f63f6ce-30ea-49eb-acc5-bf5cc76cc36f",
   "metadata": {},
   "outputs": [
    {
     "data": {
      "text/plain": [
       "'@u'"
      ]
     },
     "execution_count": 60,
     "metadata": {},
     "output_type": "execute_result"
    }
   ],
   "source": [
    "my_string[3:5]"
   ]
  },
  {
   "cell_type": "code",
   "execution_count": 49,
   "id": "d9c6d8cf-637c-4c3b-838f-ca0a004fe314",
   "metadata": {},
   "outputs": [
    {
     "data": {
      "text/plain": [
       "'abc'"
      ]
     },
     "execution_count": 49,
     "metadata": {},
     "output_type": "execute_result"
    }
   ],
   "source": [
    "my_string[0:3]"
   ]
  },
  {
   "cell_type": "markdown",
   "id": "af66533c-08ff-41cd-b70e-c584e87bc9cf",
   "metadata": {},
   "source": [
    "# In Class Exercises\n",
    "\n",
    "We will work through a few more examples in class today which will be helpful for the homework and better understanding the concepts.\n",
    "\n",
    "I will create breakout rooms with ~5-7 students in each room. Someone should be the designated \"driver\" by downloading the in-class lab assignment, sharing their screen, and help facilitating discussion among everyone on the team to solve the problem. You can choose who is the driver in your group among yourself. Also, we will work through one problem, then we will come back together and discuss before moving on to the next one. I will move room to room as well to check if their are any questions."
   ]
  },
  {
   "cell_type": "markdown",
   "id": "2d1067e0-2d63-459f-b3aa-d4293ef08d7f",
   "metadata": {},
   "source": [
    "## Exercise 1 (10 minutes)\n",
    "\n",
    "Download the in-class lab notebook on Blackboard. You can find it in the Week 2 folder.\n",
    "\n",
    "Write code to calculate and print the following formulas\n",
    "\n",
    "1. $y = x + 1$\n",
    "2. $y = 3x + 2x + x + 1$\n",
    "3. $y = 6x^2+3x+2$\n",
    "4. $y = ( \\frac{1}{2} x)^3$"
   ]
  },
  {
   "cell_type": "code",
   "execution_count": 70,
   "id": "18a0566f-ff75-4f08-86e5-7306b39d2df6",
   "metadata": {},
   "outputs": [
    {
     "name": "stdout",
     "output_type": "stream",
     "text": [
      "4\n",
      "19\n",
      "65\n",
      "3.375\n"
     ]
    }
   ],
   "source": [
    "# Write code here\n",
    "\n",
    "x = 3\n",
    "y = x + 1\n",
    "print(y)\n",
    "\n",
    "y = (3 * x) + (2 * x) + (x) + (1)\n",
    "print(y)\n",
    "\n",
    "y = (6 * (x ** 2)) + (3 * x) + 2\n",
    "print(y)\n",
    "\n",
    "y = ((1/2) * x) ** 3\n",
    "print(y)"
   ]
  },
  {
   "cell_type": "markdown",
   "id": "2e6de8bb-dde0-4185-a108-842989a50b84",
   "metadata": {},
   "source": [
    "## Exercise 2 (10 minutes)\n",
    "\n",
    "Write code that will print \"U...T...S...A\" if the variable \"number\" is **greater** than 50 **and** even (e.g., 52). If the variable \"number\" is **less** than 50 **and** odd (e.g., 31), then print \"UTSA\". If the variable is less than 50 and even **or** greater than 50 and odd, then print \"San Anotnio\".\n",
    "\n",
    "Tip: You can change the value currently assigned to the variable number to check your code."
   ]
  },
  {
   "cell_type": "code",
   "execution_count": 78,
   "id": "e81819ac-55ff-4047-98c8-1d4fd163d460",
   "metadata": {},
   "outputs": [
    {
     "name": "stdout",
     "output_type": "stream",
     "text": [
      "Last condition\n"
     ]
    }
   ],
   "source": [
    "number = 50\n",
    "# Write code here\n",
    "\n",
    "if number > 50 and (number % 2 == 0):\n",
    "    print(\"U...T...S...A\")\n",
    "elif number < 50 and (number % 2 == 1):\n",
    "    print(\"UTSA\")\n",
    "elif (number > 50 and (number % 2 == 1)) or (number < 50 and (number % 2 == 0)):\n",
    "    print(\"San Antonio\")\n",
    "else:\n",
    "    print(\"Last condition\")"
   ]
  },
  {
   "cell_type": "markdown",
   "id": "fa957892-d5c1-496f-9bf4-824597e7930f",
   "metadata": {},
   "source": [
    "## Exercise 3 (15 minutes)\n",
    "\n",
    "Write code that prints \"That is an email!\" if the text in the variable \"email\" is formatted as a valid email, otherwise print \"Not an email!\"\n",
    "\n",
    "To simplify the task, we will only consider an email address valid if it matches the following rules:\n",
    "1. Everything before @ sign must be all alphabetic characters (i.e., numbers, special characters, and periods are not allowed)\n",
    "2. The domain address (e.g., \"gmail\" in \"gmail.com\") must be all alphabetic (i.e., a-z capital or lowercase) characters.\n",
    "3. The email must end with \".com\", \".net\", \".org\", or \".edu\"\n",
    "\n",
    "Tip: Start small, e.g., check there is an @ sign, then slowly add to your boolean expressions. Also, you can change the string currently assigned to the variable email to check your code."
   ]
  },
  {
   "cell_type": "code",
   "execution_count": 109,
   "id": "17e5f6e5-7207-4f8c-be16-4bf8049a4134",
   "metadata": {},
   "outputs": [
    {
     "name": "stdout",
     "output_type": "stream",
     "text": [
      "That is an email!\n"
     ]
    }
   ],
   "source": [
    "email = \"asfa@abc.com\"\n",
    "\n",
    "# This code assumes the email is somewhat well-formed (e.g., the email won't be abc.com, @abc.com, test@abc, or test@.com\n",
    "\n",
    "part1 = email.split(\"@\")[0]\n",
    "part2a = email.split(\"@\")[1].split('.')[0]\n",
    "part2b = email.split(\"@\")[1].split('.')[1]\n",
    "\n",
    "if part1.isalpha() and part2a.isalpha() and (part2b == 'com' or part2b == 'net' or part2b == 'edu'):\n",
    "    print(\"That is an email!\")\n",
    "else:\n",
    "    print(\"Not an email!\")"
   ]
  }
 ],
 "metadata": {
  "kernelspec": {
   "display_name": "Python 3 (ipykernel)",
   "language": "python",
   "name": "python3"
  },
  "language_info": {
   "codemirror_mode": {
    "name": "ipython",
    "version": 3
   },
   "file_extension": ".py",
   "mimetype": "text/x-python",
   "name": "python",
   "nbconvert_exporter": "python",
   "pygments_lexer": "ipython3",
   "version": "3.8.12"
  }
 },
 "nbformat": 4,
 "nbformat_minor": 5
}
